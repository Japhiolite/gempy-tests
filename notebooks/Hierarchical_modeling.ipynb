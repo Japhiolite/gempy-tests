{
 "cells": [
  {
   "cell_type": "markdown",
   "metadata": {},
   "source": [
    "# Hierarchical modeling\n",
    "\n",
    "From [Issue #271](https://github.com/cgre-aachen/gempy/issues/271) a description by flohorovicic:  \n",
    "\"We often have several regions in a model domain with different geological elements. In this case, a global interpolation will very likely cause problems.\n",
    "\n",
    "Simple example: faults, different models on both sides (although this is an aspect that can be handled with gempy - serves here as purpose of example). A typical procedure would be to:\n",
    "\n",
    "1. Define a model to separate the entire modeling domain into different regions\n",
    "2. Interpolate a model in each of these regions separately (note: the model will be defined in the entire domain, but only \"active\" in a specific region)\n",
    "3. Combine a final model using the high-hierarchy \"domain map\" and the corresponding low-hierarchy submodels.\" \n",
    "\n",
    "<img src=\"https://user-images.githubusercontent.com/1070677/75426800-aa1f1280-5945-11ea-9062-d33a7be2da21.png\" width=800>"
   ]
  },
  {
   "cell_type": "code",
   "execution_count": 1,
   "metadata": {
    "code_folding": [
     0
    ]
   },
   "outputs": [],
   "source": [
    "# import libraries\n",
    "# These two lines are necessary only if GemPy is not installed\n",
    "import sys, os\n",
    "sys.path.append(\"../../\")\n",
    "\n",
    "# Importing GemPy\n",
    "import gempy as gp\n",
    "\n",
    "# Embedding matplotlib figures in the notebooks\n",
    "%matplotlib inline\n",
    "\n",
    "# Importing auxiliary libraries\n",
    "import numpy as np\n",
    "import matplotlib.pyplot as plt"
   ]
  },
  {
   "cell_type": "markdown",
   "metadata": {},
   "source": [
    "## \"High hierarchy model\""
   ]
  },
  {
   "cell_type": "code",
   "execution_count": 4,
   "metadata": {
    "code_folding": []
   },
   "outputs": [
    {
     "name": "stdout",
     "output_type": "stream",
     "text": [
      "Active grids: ['regular']\n",
      "Compiling theano function...\n",
      "Level of Optimization:  fast_compile\n",
      "Device:  cpu\n",
      "Precision:  float64\n",
      "Number of faults:  0\n",
      "Compilation Done!\n"
     ]
    },
    {
     "name": "stderr",
     "output_type": "stream",
     "text": [
      "../../gempy/core/solution.py:266: UserWarning: Attribute error. Using non masked marching cubesmarching_cubes_lewiner() got an unexpected keyword argument 'mask'.\n",
      "  warnings.warn('Attribute error. Using non masked marching cubes' + str(e)+'.')\n"
     ]
    }
   ],
   "source": [
    "# Import data\n",
    "# Create a model instance\n",
    "glob_model = gp.create_model('global_model')\n",
    "\n",
    "# Initialize the model, set dimension and load interface and orientation data\n",
    "gp.init_data(glob_model, [0, 100., 0, 3., 0, 100.], [100, 3, 100],\n",
    "            path_i = 'hierarchical_model_interfaces_fault.csv',\n",
    "            path_o = 'hierarchical_model_orientations_fault.csv');\n",
    "\n",
    "# set interpolator\n",
    "gp.set_interpolator(glob_model, theano_optimizer='fast_compile', verbose=[])\n",
    "\n",
    "# Compute the model\n",
    "sol_glob = gp.compute_model(glob_model)"
   ]
  },
  {
   "cell_type": "code",
   "execution_count": 5,
   "metadata": {},
   "outputs": [
    {
     "data": {
      "text/plain": [
       "<gempy.plot.visualization_2d.PlotSolution at 0x7f7f86e009e8>"
      ]
     },
     "execution_count": 5,
     "metadata": {},
     "output_type": "execute_result"
    },
    {
     "data": {
      "image/png": "[encoded data removed]",
      "text/plain": [
       "<Figure size 432x432 with 1 Axes>"
      ]
     },
     "metadata": {
      "needs_background": "light"
     },
     "output_type": "display_data"
    }
   ],
   "source": [
    "gp.plot.plot_section(glob_model, cell_number=1)"
   ]
  },
  {
   "cell_type": "markdown",
   "metadata": {},
   "source": [
    "## Low-hierarchy model (left)"
   ]
  },
  {
   "cell_type": "code",
   "execution_count": 6,
   "metadata": {
    "code_folding": [
     0
    ]
   },
   "outputs": [
    {
     "name": "stdout",
     "output_type": "stream",
     "text": [
      "Active grids: ['regular']\n",
      "Compiling theano function...\n",
      "Level of Optimization:  fast_compile\n",
      "Device:  cpu\n",
      "Precision:  float64\n",
      "Number of faults:  0\n",
      "Compilation Done!\n"
     ]
    }
   ],
   "source": [
    "# Import data\n",
    "# Create a model instance\n",
    "left_model = gp.create_model('left_model')\n",
    "\n",
    "# Initialize the model, set dimension and load interface and orientation data\n",
    "gp.init_data(left_model, [0, 100., 0, 3., 0, 100.], [100, 3, 100],\n",
    "            path_i = 'hierarchical_model_interfaces_left.csv',\n",
    "            path_o = 'hierarchical_model_orientations_left.csv')\n",
    "\n",
    "# set interpolator\n",
    "gp.set_interpolator(left_model, theano_optimizer='fast_compile', verbose=[])\n",
    "\n",
    "# Compute the model\n",
    "sol_left = gp.compute_model(left_model);"
   ]
  },
  {
   "cell_type": "code",
   "execution_count": 7,
   "metadata": {},
   "outputs": [
    {
     "data": {
      "image/png": "[encoded data removed]",
      "text/plain": [
       "<Figure size 432x432 with 1 Axes>"
      ]
     },
     "metadata": {
      "needs_background": "light"
     },
     "output_type": "display_data"
    }
   ],
   "source": [
    "gp.plot.plot_section(left_model, cell_number=1);"
   ]
  },
  {
   "cell_type": "markdown",
   "metadata": {},
   "source": [
    "## Low-hierarchy model (right)"
   ]
  },
  {
   "cell_type": "code",
   "execution_count": 8,
   "metadata": {
    "code_folding": [
     0
    ]
   },
   "outputs": [
    {
     "name": "stdout",
     "output_type": "stream",
     "text": [
      "Active grids: ['regular']\n",
      "Compiling theano function...\n",
      "Level of Optimization:  fast_compile\n",
      "Device:  cpu\n",
      "Precision:  float64\n",
      "Number of faults:  0\n",
      "Compilation Done!\n"
     ]
    }
   ],
   "source": [
    "# Import data\n",
    "# Create a model instance\n",
    "right_model = gp.create_model('right_model')\n",
    "\n",
    "# Initialize the model, set dimension and load interface and orientation data\n",
    "gp.init_data(right_model, [0, 100., 0, 3., 0, 100.], [100, 3, 100],\n",
    "            path_i = 'hierarchical_model_interfaces_right.csv',\n",
    "            path_o = 'hierarchical_model_orientations_right.csv')\n",
    "\n",
    "# set interpolator\n",
    "gp.set_interpolator(right_model, theano_optimizer='fast_compile', verbose=[])\n",
    "\n",
    "# Compute the model\n",
    "sol_glob = gp.compute_model(right_model);"
   ]
  },
  {
   "cell_type": "code",
   "execution_count": 9,
   "metadata": {},
   "outputs": [
    {
     "data": {
      "text/plain": [
       "<gempy.plot.visualization_2d.PlotSolution at 0x7f7f5f7c3dd8>"
      ]
     },
     "execution_count": 9,
     "metadata": {},
     "output_type": "execute_result"
    },
    {
     "data": {
      "image/png": "[encoded data removed]",
      "text/plain": [
       "<Figure size 432x432 with 1 Axes>"
      ]
     },
     "metadata": {
      "needs_background": "light"
     },
     "output_type": "display_data"
    }
   ],
   "source": [
    "gp.plot.plot_section(right_model, cell_number=1)"
   ]
  },
  {
   "cell_type": "markdown",
   "metadata": {},
   "source": [
    "## Combined model\n",
    "\n",
    "The high-hierarchy model divides the model space in two parts essentially. Each of the low-hierarchy models is then modeled in the respective regions. Combining the domains then yields the total model which looks similar to the one in the right figure at the top of this notebook. \n",
    "For showing how the final, combined model would look like, we model the high-hierarchy model in gempy as a fault.  \n",
    "*Note:* this is not the same as hierarchical modeling, but the result should look the same."
   ]
  },
  {
   "cell_type": "code",
   "execution_count": 12,
   "metadata": {
    "code_folding": [
     0
    ]
   },
   "outputs": [
    {
     "name": "stdout",
     "output_type": "stream",
     "text": [
      "Active grids: ['regular']\n",
      "Compiling theano function...\n",
      "Level of Optimization:  fast_compile\n",
      "Device:  cpu\n",
      "Precision:  float64\n",
      "Number of faults:  0\n",
      "Compilation Done!\n"
     ]
    },
    {
     "data": {
      "text/plain": [
       "<gempy.core.interpolator.InterpolatorModel at 0x7f7f5a84f978>"
      ]
     },
     "execution_count": 12,
     "metadata": {},
     "output_type": "execute_result"
    }
   ],
   "source": [
    "# Import data\n",
    "# Create a model instance\n",
    "comb_model = gp.create_model('combined_model')\n",
    "\n",
    "# Initialize the model, set dimension and load interface and orientation data\n",
    "gp.init_data(comb_model, [0, 100., 0, 3., 0, 100.], [100, 3, 100],\n",
    "            path_i = 'hierarchical_model_interfaces.csv',\n",
    "            path_o = 'hierarchical_model_orientations.csv')\n",
    "\n",
    "# set interpolator\n",
    "gp.set_interpolator(comb_model, theano_optimizer='fast_compile', verbose=[])"
   ]
  },
  {
   "cell_type": "code",
   "execution_count": 17,
   "metadata": {
    "code_folding": [
     0
    ]
   },
   "outputs": [
    {
     "data": {
      "text/html": [
       "<table border=\"1\" class=\"dataframe\">\n",
       "  <thead>\n",
       "    <tr style=\"text-align: right;\">\n",
       "      <th></th>\n",
       "      <th>isFault</th>\n",
       "      <th>isFinite</th>\n",
       "    </tr>\n",
       "  </thead>\n",
       "  <tbody>\n",
       "    <tr>\n",
       "      <th>Fault_series</th>\n",
       "      <td>True</td>\n",
       "      <td>False</td>\n",
       "    </tr>\n",
       "    <tr>\n",
       "      <th>Lith_series</th>\n",
       "      <td>False</td>\n",
       "      <td>False</td>\n",
       "    </tr>\n",
       "    <tr>\n",
       "      <th>Basement</th>\n",
       "      <td>False</td>\n",
       "      <td>False</td>\n",
       "    </tr>\n",
       "  </tbody>\n",
       "</table>"
      ],
      "text/plain": [
       "              isFault  isFinite\n",
       "Fault_series     True     False\n",
       "Lith_series     False     False\n",
       "Basement        False     False"
      ]
     },
     "execution_count": 17,
     "metadata": {},
     "output_type": "execute_result"
    }
   ],
   "source": [
    "# assign surfaces to series\n",
    "gp.map_series_to_surfaces(comb_model,\n",
    "                         {\"Fault_series\": 'fault',\n",
    "                         \"Lith_series\": ('l3_left', 'l2_left', 'l1_left')},\n",
    "                         remove_unused_series=True)\n",
    "comb_model.set_is_fault('Fault_series', change_color=False)"
   ]
  },
  {
   "cell_type": "code",
   "execution_count": 18,
   "metadata": {
    "code_folding": [
     0
    ]
   },
   "outputs": [
    {
     "name": "stderr",
     "output_type": "stream",
     "text": [
      "../../gempy/core/solution.py:266: UserWarning: Attribute error. Using non masked marching cubesmarching_cubes_lewiner() got an unexpected keyword argument 'mask'.\n",
      "  warnings.warn('Attribute error. Using non masked marching cubes' + str(e)+'.')\n"
     ]
    }
   ],
   "source": [
    "# Compute the model\n",
    "sol_comb = gp.compute_model(comb_model)"
   ]
  },
  {
   "cell_type": "code",
   "execution_count": 19,
   "metadata": {},
   "outputs": [
    {
     "data": {
      "text/plain": [
       "<gempy.plot.visualization_2d.PlotSolution at 0x7f7f5a8a85f8>"
      ]
     },
     "execution_count": 19,
     "metadata": {},
     "output_type": "execute_result"
    },
    {
     "data": {
      "image/png": "[encoded data removed]",
      "text/plain": [
       "<Figure size 432x432 with 1 Axes>"
      ]
     },
     "metadata": {
      "needs_background": "light"
     },
     "output_type": "display_data"
    }
   ],
   "source": [
    "gp.plot.plot_section(comb_model, cell_number=1)"
   ]
  }
 ],
 "metadata": {
  "hide_input": false,
  "kernelspec": {
   "display_name": "Python 3",
   "language": "python",
   "name": "python3"
  },
  "latex_envs": {
   "LaTeX_envs_menu_present": true,
   "autoclose": false,
   "autocomplete": true,
   "bibliofile": "biblio.bib",
   "cite_by": "apalike",
   "current_citInitial": 1,
   "eqLabelWithNumbers": true,
   "eqNumInitial": 1,
   "hotkeys": {
    "equation": "Ctrl-E",
    "itemize": "Ctrl-I"
   },
   "labels_anchors": false,
   "latex_user_defs": false,
   "report_style_numbering": false,
   "user_envs_cfg": false
  },
  "toc": {
   "base_numbering": 1,
   "nav_menu": {},
   "number_sections": false,
   "sideBar": true,
   "skip_h1_title": false,
   "title_cell": "Table of Contents",
   "title_sidebar": "Contents",
   "toc_cell": false,
   "toc_position": {},
   "toc_section_display": true,
   "toc_window_display": false
  },
  "varInspector": {
   "cols": {
    "lenName": 16,
    "lenType": 16,
    "lenVar": 40
   },
   "kernels_config": {
    "python": {
     "delete_cmd_postfix": "",
     "delete_cmd_prefix": "del ",
     "library": "var_list.py",
     "varRefreshCmd": "print(var_dic_list())"
    },
    "r": {
     "delete_cmd_postfix": ") ",
     "delete_cmd_prefix": "rm(",
     "library": "var_list.r",
     "varRefreshCmd": "cat(var_dic_list()) "
    }
   },
   "types_to_exclude": [
    "module",
    "function",
    "builtin_function_or_method",
    "instance",
    "_Feature"
   ],
   "window_display": false
  }
 },
 "nbformat": 4,
 "nbformat_minor": 4
}
