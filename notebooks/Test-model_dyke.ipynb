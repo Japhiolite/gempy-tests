{
 "cells": [
  {
   "cell_type": "code",
   "execution_count": 1,
   "metadata": {},
   "outputs": [],
   "source": [
    "import gempy as gp\n",
    "import numpy as np\n",
    "%matplotlib inline"
   ]
  },
  {
   "cell_type": "markdown",
   "metadata": {},
   "source": [
    "## Geological Model with just a Fault"
   ]
  },
  {
   "cell_type": "code",
   "execution_count": 2,
   "metadata": {},
   "outputs": [
    {
     "name": "stdout",
     "output_type": "stream",
     "text": [
      "Active grids: ['regular']\n"
     ]
    }
   ],
   "source": [
    "# Create a model instance\n",
    "geo_model = gp.create_model('no_dyke')\n",
    "\n",
    "# Initialize the model, set dimension and load interface and orientation data\n",
    "gp.init_data(geo_model, [0., 1200., 0., 2., 0., 1500.], [100, 2, 100],\n",
    "            path_i = '../data/06_Dyke_Model_wo_Dyke_interfaces.csv',\n",
    "            path_o = '../data/06_Dyke_Model_wo_Dyke_orientations.csv');"
   ]
  },
  {
   "cell_type": "code",
   "execution_count": 3,
   "metadata": {},
   "outputs": [
    {
     "name": "stderr",
     "output_type": "stream",
     "text": [
      "C:\\Users\\brigg\\miniconda3\\envs\\env_gempy\\lib\\site-packages\\gempy\\plot\\plot_api.py:261: UserWarning: Matplotlib is currently using module://ipykernel.pylab.backend_inline, which is a non-GUI backend, so cannot show the figure.\n",
      "  p.fig.show()\n"
     ]
    },
    {
     "data": {
      "text/plain": [
       "<gempy.plot.visualization_2d.Plot2D at 0x189041e0608>"
      ]
     },
     "execution_count": 3,
     "metadata": {},
     "output_type": "execute_result"
    },
    {
     "data": {
      "image/png": "[encoded data removed]",
      "text/plain": [
       "<Figure size 432x288 with 1 Axes>"
      ]
     },
     "metadata": {
      "needs_background": "light"
     },
     "output_type": "display_data"
    }
   ],
   "source": [
    "gp.plot_2d(geo_model, show_legend=False)"
   ]
  },
  {
   "cell_type": "code",
   "execution_count": 4,
   "metadata": {},
   "outputs": [
    {
     "name": "stdout",
     "output_type": "stream",
     "text": [
      "Setting kriging parameters to their default values.\n",
      "Compiling theano function...\n",
      "Level of Optimization:  fast_compile\n",
      "Device:  cpu\n",
      "Precision:  float64\n",
      "Number of faults:  0\n",
      "Compilation Done!\n",
      "Kriging values: \n",
      "                   values\n",
      "range            1920.94\n",
      "$C_o$            87857.2\n",
      "drift equations   [3, 3]\n"
     ]
    }
   ],
   "source": [
    "# Set the interpolator function\n",
    "# Create the theano model\n",
    "gp.set_interpolator(geo_model,\n",
    "                         compile_theano=True,\n",
    "                         theano_optimizer='fast_compile',\n",
    "                         verbose=[]);"
   ]
  },
  {
   "cell_type": "code",
   "execution_count": 5,
   "metadata": {},
   "outputs": [
    {
     "data": {
      "text/html": [
       "<style  type=\"text/css\" >\n",
       "    #T_dbee3f36_d800_11ea_a9dc_d05099154a5crow0_col3 {\n",
       "            background-color:  #015482;\n",
       "        }    #T_dbee3f36_d800_11ea_a9dc_d05099154a5crow1_col3 {\n",
       "            background-color:  #9f0052;\n",
       "        }    #T_dbee3f36_d800_11ea_a9dc_d05099154a5crow2_col3 {\n",
       "            background-color:  #ffbe00;\n",
       "        }    #T_dbee3f36_d800_11ea_a9dc_d05099154a5crow3_col3 {\n",
       "            background-color:  #728f02;\n",
       "        }</style><table id=\"T_dbee3f36_d800_11ea_a9dc_d05099154a5c\" ><thead>    <tr>        <th class=\"blank level0\" ></th>        <th class=\"col_heading level0 col0\" >surface</th>        <th class=\"col_heading level0 col1\" >series</th>        <th class=\"col_heading level0 col2\" >order_surfaces</th>        <th class=\"col_heading level0 col3\" >color</th>        <th class=\"col_heading level0 col4\" >id</th>    </tr></thead><tbody>\n",
       "                <tr>\n",
       "                        <th id=\"T_dbee3f36_d800_11ea_a9dc_d05099154a5clevel0_row0\" class=\"row_heading level0 row0\" >0</th>\n",
       "                        <td id=\"T_dbee3f36_d800_11ea_a9dc_d05099154a5crow0_col0\" class=\"data row0 col0\" >Main_Fault</td>\n",
       "                        <td id=\"T_dbee3f36_d800_11ea_a9dc_d05099154a5crow0_col1\" class=\"data row0 col1\" >Default series</td>\n",
       "                        <td id=\"T_dbee3f36_d800_11ea_a9dc_d05099154a5crow0_col2\" class=\"data row0 col2\" >1</td>\n",
       "                        <td id=\"T_dbee3f36_d800_11ea_a9dc_d05099154a5crow0_col3\" class=\"data row0 col3\" >#015482</td>\n",
       "                        <td id=\"T_dbee3f36_d800_11ea_a9dc_d05099154a5crow0_col4\" class=\"data row0 col4\" >1</td>\n",
       "            </tr>\n",
       "            <tr>\n",
       "                        <th id=\"T_dbee3f36_d800_11ea_a9dc_d05099154a5clevel0_row1\" class=\"row_heading level0 row1\" >1</th>\n",
       "                        <td id=\"T_dbee3f36_d800_11ea_a9dc_d05099154a5crow1_col0\" class=\"data row1 col0\" >Sandstone</td>\n",
       "                        <td id=\"T_dbee3f36_d800_11ea_a9dc_d05099154a5crow1_col1\" class=\"data row1 col1\" >Default series</td>\n",
       "                        <td id=\"T_dbee3f36_d800_11ea_a9dc_d05099154a5crow1_col2\" class=\"data row1 col2\" >2</td>\n",
       "                        <td id=\"T_dbee3f36_d800_11ea_a9dc_d05099154a5crow1_col3\" class=\"data row1 col3\" >#9f0052</td>\n",
       "                        <td id=\"T_dbee3f36_d800_11ea_a9dc_d05099154a5crow1_col4\" class=\"data row1 col4\" >2</td>\n",
       "            </tr>\n",
       "            <tr>\n",
       "                        <th id=\"T_dbee3f36_d800_11ea_a9dc_d05099154a5clevel0_row2\" class=\"row_heading level0 row2\" >2</th>\n",
       "                        <td id=\"T_dbee3f36_d800_11ea_a9dc_d05099154a5crow2_col0\" class=\"data row2 col0\" >Limestone</td>\n",
       "                        <td id=\"T_dbee3f36_d800_11ea_a9dc_d05099154a5crow2_col1\" class=\"data row2 col1\" >Default series</td>\n",
       "                        <td id=\"T_dbee3f36_d800_11ea_a9dc_d05099154a5crow2_col2\" class=\"data row2 col2\" >3</td>\n",
       "                        <td id=\"T_dbee3f36_d800_11ea_a9dc_d05099154a5crow2_col3\" class=\"data row2 col3\" >#ffbe00</td>\n",
       "                        <td id=\"T_dbee3f36_d800_11ea_a9dc_d05099154a5crow2_col4\" class=\"data row2 col4\" >3</td>\n",
       "            </tr>\n",
       "            <tr>\n",
       "                        <th id=\"T_dbee3f36_d800_11ea_a9dc_d05099154a5clevel0_row3\" class=\"row_heading level0 row3\" >3</th>\n",
       "                        <td id=\"T_dbee3f36_d800_11ea_a9dc_d05099154a5crow3_col0\" class=\"data row3 col0\" >basement</td>\n",
       "                        <td id=\"T_dbee3f36_d800_11ea_a9dc_d05099154a5crow3_col1\" class=\"data row3 col1\" >Basement</td>\n",
       "                        <td id=\"T_dbee3f36_d800_11ea_a9dc_d05099154a5crow3_col2\" class=\"data row3 col2\" >1</td>\n",
       "                        <td id=\"T_dbee3f36_d800_11ea_a9dc_d05099154a5crow3_col3\" class=\"data row3 col3\" >#728f02</td>\n",
       "                        <td id=\"T_dbee3f36_d800_11ea_a9dc_d05099154a5crow3_col4\" class=\"data row3 col4\" >4</td>\n",
       "            </tr>\n",
       "    </tbody></table>"
      ],
      "text/plain": [
       "      surface          series  order_surfaces    color  id\n",
       "0  Main_Fault  Default series               1  #015482   1\n",
       "1   Sandstone  Default series               2  #9f0052   2\n",
       "2   Limestone  Default series               3  #ffbe00   3\n",
       "3    basement        Basement               1  #728f02   4"
      ]
     },
     "execution_count": 5,
     "metadata": {},
     "output_type": "execute_result"
    }
   ],
   "source": [
    "geo_model.surfaces"
   ]
  },
  {
   "cell_type": "code",
   "execution_count": 6,
   "metadata": {},
   "outputs": [
    {
     "data": {
      "text/html": [
       "<style  type=\"text/css\" >\n",
       "    #T_dc50eb5a_d800_11ea_837a_d05099154a5crow0_col3 {\n",
       "            background-color:  #015482;\n",
       "        }    #T_dc50eb5a_d800_11ea_837a_d05099154a5crow1_col3 {\n",
       "            background-color:  #9f0052;\n",
       "        }    #T_dc50eb5a_d800_11ea_837a_d05099154a5crow2_col3 {\n",
       "            background-color:  #ffbe00;\n",
       "        }    #T_dc50eb5a_d800_11ea_837a_d05099154a5crow3_col3 {\n",
       "            background-color:  #728f02;\n",
       "        }</style><table id=\"T_dc50eb5a_d800_11ea_837a_d05099154a5c\" ><thead>    <tr>        <th class=\"blank level0\" ></th>        <th class=\"col_heading level0 col0\" >surface</th>        <th class=\"col_heading level0 col1\" >series</th>        <th class=\"col_heading level0 col2\" >order_surfaces</th>        <th class=\"col_heading level0 col3\" >color</th>        <th class=\"col_heading level0 col4\" >id</th>    </tr></thead><tbody>\n",
       "                <tr>\n",
       "                        <th id=\"T_dc50eb5a_d800_11ea_837a_d05099154a5clevel0_row0\" class=\"row_heading level0 row0\" >0</th>\n",
       "                        <td id=\"T_dc50eb5a_d800_11ea_837a_d05099154a5crow0_col0\" class=\"data row0 col0\" >Main_Fault</td>\n",
       "                        <td id=\"T_dc50eb5a_d800_11ea_837a_d05099154a5crow0_col1\" class=\"data row0 col1\" >Fault_series</td>\n",
       "                        <td id=\"T_dc50eb5a_d800_11ea_837a_d05099154a5crow0_col2\" class=\"data row0 col2\" >1</td>\n",
       "                        <td id=\"T_dc50eb5a_d800_11ea_837a_d05099154a5crow0_col3\" class=\"data row0 col3\" >#015482</td>\n",
       "                        <td id=\"T_dc50eb5a_d800_11ea_837a_d05099154a5crow0_col4\" class=\"data row0 col4\" >1</td>\n",
       "            </tr>\n",
       "            <tr>\n",
       "                        <th id=\"T_dc50eb5a_d800_11ea_837a_d05099154a5clevel0_row1\" class=\"row_heading level0 row1\" >1</th>\n",
       "                        <td id=\"T_dc50eb5a_d800_11ea_837a_d05099154a5crow1_col0\" class=\"data row1 col0\" >Sandstone</td>\n",
       "                        <td id=\"T_dc50eb5a_d800_11ea_837a_d05099154a5crow1_col1\" class=\"data row1 col1\" >Sediment_series</td>\n",
       "                        <td id=\"T_dc50eb5a_d800_11ea_837a_d05099154a5crow1_col2\" class=\"data row1 col2\" >1</td>\n",
       "                        <td id=\"T_dc50eb5a_d800_11ea_837a_d05099154a5crow1_col3\" class=\"data row1 col3\" >#9f0052</td>\n",
       "                        <td id=\"T_dc50eb5a_d800_11ea_837a_d05099154a5crow1_col4\" class=\"data row1 col4\" >2</td>\n",
       "            </tr>\n",
       "            <tr>\n",
       "                        <th id=\"T_dc50eb5a_d800_11ea_837a_d05099154a5clevel0_row2\" class=\"row_heading level0 row2\" >2</th>\n",
       "                        <td id=\"T_dc50eb5a_d800_11ea_837a_d05099154a5crow2_col0\" class=\"data row2 col0\" >Limestone</td>\n",
       "                        <td id=\"T_dc50eb5a_d800_11ea_837a_d05099154a5crow2_col1\" class=\"data row2 col1\" >Sediment_series</td>\n",
       "                        <td id=\"T_dc50eb5a_d800_11ea_837a_d05099154a5crow2_col2\" class=\"data row2 col2\" >2</td>\n",
       "                        <td id=\"T_dc50eb5a_d800_11ea_837a_d05099154a5crow2_col3\" class=\"data row2 col3\" >#ffbe00</td>\n",
       "                        <td id=\"T_dc50eb5a_d800_11ea_837a_d05099154a5crow2_col4\" class=\"data row2 col4\" >3</td>\n",
       "            </tr>\n",
       "            <tr>\n",
       "                        <th id=\"T_dc50eb5a_d800_11ea_837a_d05099154a5clevel0_row3\" class=\"row_heading level0 row3\" >3</th>\n",
       "                        <td id=\"T_dc50eb5a_d800_11ea_837a_d05099154a5crow3_col0\" class=\"data row3 col0\" >basement</td>\n",
       "                        <td id=\"T_dc50eb5a_d800_11ea_837a_d05099154a5crow3_col1\" class=\"data row3 col1\" >Basement</td>\n",
       "                        <td id=\"T_dc50eb5a_d800_11ea_837a_d05099154a5crow3_col2\" class=\"data row3 col2\" >1</td>\n",
       "                        <td id=\"T_dc50eb5a_d800_11ea_837a_d05099154a5crow3_col3\" class=\"data row3 col3\" >#728f02</td>\n",
       "                        <td id=\"T_dc50eb5a_d800_11ea_837a_d05099154a5crow3_col4\" class=\"data row3 col4\" >4</td>\n",
       "            </tr>\n",
       "    </tbody></table>"
      ],
      "text/plain": [
       "      surface           series  order_surfaces    color  id\n",
       "0  Main_Fault     Fault_series               1  #015482   1\n",
       "1   Sandstone  Sediment_series               1  #9f0052   2\n",
       "2   Limestone  Sediment_series               2  #ffbe00   3\n",
       "3    basement         Basement               1  #728f02   4"
      ]
     },
     "execution_count": 6,
     "metadata": {},
     "output_type": "execute_result"
    }
   ],
   "source": [
    "# Assign formations to series\n",
    "gp.map_series_to_surfaces(geo_model,\n",
    "                         {\"Fault_series\":'Main_Fault',\n",
    "                         \"Sediment_series\":('Limestone', 'Sandstone')},\n",
    "                         remove_unused_series=True)\n",
    "geo_model.surfaces"
   ]
  },
  {
   "cell_type": "code",
   "execution_count": 7,
   "metadata": {},
   "outputs": [],
   "source": [
    "# Set Faults\n",
    "geo_model.set_is_fault(['Fault_series'],\n",
    "                      change_color=False);"
   ]
  },
  {
   "cell_type": "code",
   "execution_count": 8,
   "metadata": {},
   "outputs": [],
   "source": [
    "# Compute the model\n",
    "sol = gp.compute_model(geo_model, compute_mesh=True)"
   ]
  },
  {
   "cell_type": "code",
   "execution_count": 9,
   "metadata": {},
   "outputs": [
    {
     "name": "stderr",
     "output_type": "stream",
     "text": [
      "C:\\Users\\brigg\\miniconda3\\envs\\env_gempy\\lib\\site-packages\\gempy\\plot\\plot_api.py:261: UserWarning: Matplotlib is currently using module://ipykernel.pylab.backend_inline, which is a non-GUI backend, so cannot show the figure.\n",
      "  p.fig.show()\n"
     ]
    },
    {
     "data": {
      "text/plain": [
       "<gempy.plot.visualization_2d.Plot2D at 0x18905700608>"
      ]
     },
     "execution_count": 9,
     "metadata": {},
     "output_type": "execute_result"
    },
    {
     "data": {
      "image/png": "[encoded data removed]",
      "text/plain": [
       "<Figure size 432x288 with 1 Axes>"
      ]
     },
     "metadata": {
      "needs_background": "light"
     },
     "output_type": "display_data"
    }
   ],
   "source": [
    "gp.plot_2d(geo_model, direction='y', show_block=True, show_boundaries=False, \n",
    "           show_data=False, show_results=True)"
   ]
  },
  {
   "cell_type": "markdown",
   "metadata": {},
   "source": [
    "## Introducing a Dyke to try to act as a Fault body"
   ]
  },
  {
   "cell_type": "code",
   "execution_count": 85,
   "metadata": {},
   "outputs": [
    {
     "name": "stdout",
     "output_type": "stream",
     "text": [
      "Active grids: ['regular']\n"
     ]
    }
   ],
   "source": [
    "# Create a model instance\n",
    "model_dyke = gp.create_model('with_dyke')\n",
    "\n",
    "# Initialize the model, set dimension and load interface and orientation data\n",
    "gp.init_data(model_dyke, [0., 1200., 0., 2., 0., 1500.], [100, 2, 100],\n",
    "            path_i = '../data/06_Dyke_Model_with_Dyke_interfaces.csv',\n",
    "            path_o = '../data/06_Dyke_Model_with_Dyke_orientations.csv');"
   ]
  },
  {
   "cell_type": "code",
   "execution_count": 86,
   "metadata": {},
   "outputs": [
    {
     "data": {
      "text/plain": [
       "<gempy.plot.visualization_2d.Plot2D at 0x18923e42a88>"
      ]
     },
     "execution_count": 86,
     "metadata": {},
     "output_type": "execute_result"
    },
    {
     "data": {
      "image/png": "[encoded data removed]",
      "text/plain": [
       "<Figure size 432x288 with 1 Axes>"
      ]
     },
     "metadata": {
      "needs_background": "light"
     },
     "output_type": "display_data"
    }
   ],
   "source": [
    "gp.plot_2d(model_dyke)"
   ]
  },
  {
   "cell_type": "code",
   "execution_count": 87,
   "metadata": {
    "scrolled": true
   },
   "outputs": [
    {
     "data": {
      "text/html": [
       "<style  type=\"text/css\" >\n",
       "    #T_6f7c2c1a_d802_11ea_b694_d05099154a5crow0_col3 {\n",
       "            background-color:  #015482;\n",
       "        }    #T_6f7c2c1a_d802_11ea_b694_d05099154a5crow1_col3 {\n",
       "            background-color:  #728f02;\n",
       "        }    #T_6f7c2c1a_d802_11ea_b694_d05099154a5crow2_col3 {\n",
       "            background-color:  #9f0052;\n",
       "        }    #T_6f7c2c1a_d802_11ea_b694_d05099154a5crow3_col3 {\n",
       "            background-color:  #ffbe00;\n",
       "        }    #T_6f7c2c1a_d802_11ea_b694_d05099154a5crow4_col3 {\n",
       "            background-color:  #443988;\n",
       "        }</style><table id=\"T_6f7c2c1a_d802_11ea_b694_d05099154a5c\" ><thead>    <tr>        <th class=\"blank level0\" ></th>        <th class=\"col_heading level0 col0\" >surface</th>        <th class=\"col_heading level0 col1\" >series</th>        <th class=\"col_heading level0 col2\" >order_surfaces</th>        <th class=\"col_heading level0 col3\" >color</th>        <th class=\"col_heading level0 col4\" >id</th>    </tr></thead><tbody>\n",
       "                <tr>\n",
       "                        <th id=\"T_6f7c2c1a_d802_11ea_b694_d05099154a5clevel0_row0\" class=\"row_heading level0 row0\" >0</th>\n",
       "                        <td id=\"T_6f7c2c1a_d802_11ea_b694_d05099154a5crow0_col0\" class=\"data row0 col0\" >Main_Fault</td>\n",
       "                        <td id=\"T_6f7c2c1a_d802_11ea_b694_d05099154a5crow0_col1\" class=\"data row0 col1\" >Fault_series</td>\n",
       "                        <td id=\"T_6f7c2c1a_d802_11ea_b694_d05099154a5crow0_col2\" class=\"data row0 col2\" >1</td>\n",
       "                        <td id=\"T_6f7c2c1a_d802_11ea_b694_d05099154a5crow0_col3\" class=\"data row0 col3\" >#015482</td>\n",
       "                        <td id=\"T_6f7c2c1a_d802_11ea_b694_d05099154a5crow0_col4\" class=\"data row0 col4\" >1</td>\n",
       "            </tr>\n",
       "            <tr>\n",
       "                        <th id=\"T_6f7c2c1a_d802_11ea_b694_d05099154a5clevel0_row1\" class=\"row_heading level0 row1\" >3</th>\n",
       "                        <td id=\"T_6f7c2c1a_d802_11ea_b694_d05099154a5crow1_col0\" class=\"data row1 col0\" >Dyke</td>\n",
       "                        <td id=\"T_6f7c2c1a_d802_11ea_b694_d05099154a5crow1_col1\" class=\"data row1 col1\" >Dyke_series</td>\n",
       "                        <td id=\"T_6f7c2c1a_d802_11ea_b694_d05099154a5crow1_col2\" class=\"data row1 col2\" >1</td>\n",
       "                        <td id=\"T_6f7c2c1a_d802_11ea_b694_d05099154a5crow1_col3\" class=\"data row1 col3\" >#728f02</td>\n",
       "                        <td id=\"T_6f7c2c1a_d802_11ea_b694_d05099154a5crow1_col4\" class=\"data row1 col4\" >2</td>\n",
       "            </tr>\n",
       "            <tr>\n",
       "                        <th id=\"T_6f7c2c1a_d802_11ea_b694_d05099154a5clevel0_row2\" class=\"row_heading level0 row2\" >1</th>\n",
       "                        <td id=\"T_6f7c2c1a_d802_11ea_b694_d05099154a5crow2_col0\" class=\"data row2 col0\" >Sandstone</td>\n",
       "                        <td id=\"T_6f7c2c1a_d802_11ea_b694_d05099154a5crow2_col1\" class=\"data row2 col1\" >Sediment_series</td>\n",
       "                        <td id=\"T_6f7c2c1a_d802_11ea_b694_d05099154a5crow2_col2\" class=\"data row2 col2\" >1</td>\n",
       "                        <td id=\"T_6f7c2c1a_d802_11ea_b694_d05099154a5crow2_col3\" class=\"data row2 col3\" >#9f0052</td>\n",
       "                        <td id=\"T_6f7c2c1a_d802_11ea_b694_d05099154a5crow2_col4\" class=\"data row2 col4\" >3</td>\n",
       "            </tr>\n",
       "            <tr>\n",
       "                        <th id=\"T_6f7c2c1a_d802_11ea_b694_d05099154a5clevel0_row3\" class=\"row_heading level0 row3\" >2</th>\n",
       "                        <td id=\"T_6f7c2c1a_d802_11ea_b694_d05099154a5crow3_col0\" class=\"data row3 col0\" >Limestone</td>\n",
       "                        <td id=\"T_6f7c2c1a_d802_11ea_b694_d05099154a5crow3_col1\" class=\"data row3 col1\" >Sediment_series</td>\n",
       "                        <td id=\"T_6f7c2c1a_d802_11ea_b694_d05099154a5crow3_col2\" class=\"data row3 col2\" >2</td>\n",
       "                        <td id=\"T_6f7c2c1a_d802_11ea_b694_d05099154a5crow3_col3\" class=\"data row3 col3\" >#ffbe00</td>\n",
       "                        <td id=\"T_6f7c2c1a_d802_11ea_b694_d05099154a5crow3_col4\" class=\"data row3 col4\" >4</td>\n",
       "            </tr>\n",
       "            <tr>\n",
       "                        <th id=\"T_6f7c2c1a_d802_11ea_b694_d05099154a5clevel0_row4\" class=\"row_heading level0 row4\" >4</th>\n",
       "                        <td id=\"T_6f7c2c1a_d802_11ea_b694_d05099154a5crow4_col0\" class=\"data row4 col0\" >basement</td>\n",
       "                        <td id=\"T_6f7c2c1a_d802_11ea_b694_d05099154a5crow4_col1\" class=\"data row4 col1\" >Basement</td>\n",
       "                        <td id=\"T_6f7c2c1a_d802_11ea_b694_d05099154a5crow4_col2\" class=\"data row4 col2\" >1</td>\n",
       "                        <td id=\"T_6f7c2c1a_d802_11ea_b694_d05099154a5crow4_col3\" class=\"data row4 col3\" >#443988</td>\n",
       "                        <td id=\"T_6f7c2c1a_d802_11ea_b694_d05099154a5crow4_col4\" class=\"data row4 col4\" >5</td>\n",
       "            </tr>\n",
       "    </tbody></table>"
      ],
      "text/plain": [
       "      surface           series  order_surfaces    color  id\n",
       "0  Main_Fault     Fault_series               1  #015482   1\n",
       "3        Dyke      Dyke_series               1  #728f02   2\n",
       "1   Sandstone  Sediment_series               1  #9f0052   3\n",
       "2   Limestone  Sediment_series               2  #ffbe00   4\n",
       "4    basement         Basement               1  #443988   5"
      ]
     },
     "execution_count": 87,
     "metadata": {},
     "output_type": "execute_result"
    }
   ],
   "source": [
    "# Assign formations to series\n",
    "gp.map_series_to_surfaces(model_dyke,\n",
    "                         {\"Fault_series\": 'Main_Fault',\n",
    "                          \"Dyke_series\": 'Dyke',\n",
    "                         \"Sediment_series\": ('Limestone', 'Sandstone')},\n",
    "                         remove_unused_series=True)\n",
    "model_dyke.surfaces"
   ]
  },
  {
   "cell_type": "code",
   "execution_count": 88,
   "metadata": {},
   "outputs": [],
   "source": [
    "# Set Faults\n",
    "model_dyke.set_is_fault(['Fault_series'],\n",
    "                      change_color=False);"
   ]
  },
  {
   "cell_type": "code",
   "execution_count": 89,
   "metadata": {},
   "outputs": [
    {
     "data": {
      "text/html": [
       "<div>\n",
       "<style scoped>\n",
       "    .dataframe tbody tr th:only-of-type {\n",
       "        vertical-align: middle;\n",
       "    }\n",
       "\n",
       "    .dataframe tbody tr th {\n",
       "        vertical-align: top;\n",
       "    }\n",
       "\n",
       "    .dataframe thead th {\n",
       "        text-align: right;\n",
       "    }\n",
       "</style>\n",
       "<table border=\"1\" class=\"dataframe\">\n",
       "  <thead>\n",
       "    <tr style=\"text-align: right;\">\n",
       "      <th></th>\n",
       "      <th>Fault_series</th>\n",
       "      <th>Dyke_series</th>\n",
       "      <th>Sediment_series</th>\n",
       "      <th>Basement</th>\n",
       "    </tr>\n",
       "  </thead>\n",
       "  <tbody>\n",
       "    <tr>\n",
       "      <th>Fault_series</th>\n",
       "      <td>False</td>\n",
       "      <td>True</td>\n",
       "      <td>True</td>\n",
       "      <td>True</td>\n",
       "    </tr>\n",
       "    <tr>\n",
       "      <th>Dyke_series</th>\n",
       "      <td>False</td>\n",
       "      <td>False</td>\n",
       "      <td>False</td>\n",
       "      <td>False</td>\n",
       "    </tr>\n",
       "    <tr>\n",
       "      <th>Sediment_series</th>\n",
       "      <td>False</td>\n",
       "      <td>False</td>\n",
       "      <td>False</td>\n",
       "      <td>False</td>\n",
       "    </tr>\n",
       "    <tr>\n",
       "      <th>Basement</th>\n",
       "      <td>False</td>\n",
       "      <td>False</td>\n",
       "      <td>False</td>\n",
       "      <td>False</td>\n",
       "    </tr>\n",
       "  </tbody>\n",
       "</table>\n",
       "</div>"
      ],
      "text/plain": [
       "                 Fault_series  Dyke_series  Sediment_series  Basement\n",
       "Fault_series            False         True             True      True\n",
       "Dyke_series             False        False            False     False\n",
       "Sediment_series         False        False            False     False\n",
       "Basement                False        False            False     False"
      ]
     },
     "execution_count": 89,
     "metadata": {},
     "output_type": "execute_result"
    }
   ],
   "source": [
    "model_dyke.faults.faults_relations_df"
   ]
  },
  {
   "cell_type": "code",
   "execution_count": 90,
   "metadata": {},
   "outputs": [
    {
     "data": {
      "text/html": [
       "<div>\n",
       "<style scoped>\n",
       "    .dataframe tbody tr th:only-of-type {\n",
       "        vertical-align: middle;\n",
       "    }\n",
       "\n",
       "    .dataframe tbody tr th {\n",
       "        vertical-align: top;\n",
       "    }\n",
       "\n",
       "    .dataframe thead th {\n",
       "        text-align: right;\n",
       "    }\n",
       "</style>\n",
       "<table border=\"1\" class=\"dataframe\">\n",
       "  <thead>\n",
       "    <tr style=\"text-align: right;\">\n",
       "      <th></th>\n",
       "      <th>Fault_series</th>\n",
       "      <th>Dyke_series</th>\n",
       "      <th>Sediment_series</th>\n",
       "      <th>Basement</th>\n",
       "    </tr>\n",
       "  </thead>\n",
       "  <tbody>\n",
       "    <tr>\n",
       "      <th>Fault_series</th>\n",
       "      <td>False</td>\n",
       "      <td>False</td>\n",
       "      <td>True</td>\n",
       "      <td>True</td>\n",
       "    </tr>\n",
       "    <tr>\n",
       "      <th>Dyke_series</th>\n",
       "      <td>False</td>\n",
       "      <td>False</td>\n",
       "      <td>False</td>\n",
       "      <td>False</td>\n",
       "    </tr>\n",
       "    <tr>\n",
       "      <th>Sediment_series</th>\n",
       "      <td>False</td>\n",
       "      <td>False</td>\n",
       "      <td>False</td>\n",
       "      <td>False</td>\n",
       "    </tr>\n",
       "    <tr>\n",
       "      <th>Basement</th>\n",
       "      <td>False</td>\n",
       "      <td>False</td>\n",
       "      <td>False</td>\n",
       "      <td>False</td>\n",
       "    </tr>\n",
       "  </tbody>\n",
       "</table>\n",
       "</div>"
      ],
      "text/plain": [
       "                 Fault_series  Dyke_series  Sediment_series  Basement\n",
       "Fault_series            False        False             True      True\n",
       "Dyke_series             False        False            False     False\n",
       "Sediment_series         False        False            False     False\n",
       "Basement                False        False            False     False"
      ]
     },
     "execution_count": 90,
     "metadata": {},
     "output_type": "execute_result"
    }
   ],
   "source": [
    "fr = np.array([[False, False, True, True],\n",
    "               [False, False, False, False],\n",
    "               [False, False, False, False],\n",
    "               [False, False, False, False]])\n",
    "model_dyke.set_fault_relation(fr)"
   ]
  },
  {
   "cell_type": "code",
   "execution_count": 91,
   "metadata": {},
   "outputs": [
    {
     "data": {
      "text/html": [
       "<table border=\"1\" class=\"dataframe\">\n",
       "  <thead>\n",
       "    <tr style=\"text-align: right;\">\n",
       "      <th></th>\n",
       "      <th>order_series</th>\n",
       "      <th>BottomRelation</th>\n",
       "      <th>isActive</th>\n",
       "      <th>isFault</th>\n",
       "      <th>isFinite</th>\n",
       "    </tr>\n",
       "  </thead>\n",
       "  <tbody>\n",
       "    <tr>\n",
       "      <th>Fault_series</th>\n",
       "      <td>1</td>\n",
       "      <td>Fault</td>\n",
       "      <td>True</td>\n",
       "      <td>True</td>\n",
       "      <td>False</td>\n",
       "    </tr>\n",
       "    <tr>\n",
       "      <th>Dyke_series</th>\n",
       "      <td>2</td>\n",
       "      <td>Erosion</td>\n",
       "      <td>True</td>\n",
       "      <td>False</td>\n",
       "      <td>False</td>\n",
       "    </tr>\n",
       "    <tr>\n",
       "      <th>Sediment_series</th>\n",
       "      <td>3</td>\n",
       "      <td>Erosion</td>\n",
       "      <td>True</td>\n",
       "      <td>False</td>\n",
       "      <td>False</td>\n",
       "    </tr>\n",
       "    <tr>\n",
       "      <th>Basement</th>\n",
       "      <td>4</td>\n",
       "      <td>Erosion</td>\n",
       "      <td>False</td>\n",
       "      <td>False</td>\n",
       "      <td>False</td>\n",
       "    </tr>\n",
       "  </tbody>\n",
       "</table>"
      ],
      "text/plain": [
       "                 order_series BottomRelation  isActive  isFault  isFinite\n",
       "Fault_series                1          Fault      True     True     False\n",
       "Dyke_series                 2        Erosion      True    False     False\n",
       "Sediment_series             3        Erosion      True    False     False\n",
       "Basement                    4        Erosion     False    False     False"
      ]
     },
     "execution_count": 91,
     "metadata": {},
     "output_type": "execute_result"
    }
   ],
   "source": [
    "model_dyke.series"
   ]
  },
  {
   "cell_type": "code",
   "execution_count": 92,
   "metadata": {},
   "outputs": [
    {
     "name": "stdout",
     "output_type": "stream",
     "text": [
      "Setting kriging parameters to their default values.\n",
      "Compiling theano function...\n",
      "Level of Optimization:  fast_compile\n",
      "Device:  cpu\n",
      "Precision:  float64\n",
      "Number of faults:  1\n",
      "Compilation Done!\n",
      "Kriging values: \n",
      "                        values\n",
      "range                 1920.94\n",
      "$C_o$                 87857.2\n",
      "drift equations  [3, 3, 3, 3]\n"
     ]
    }
   ],
   "source": [
    "# Set the interpolator function\n",
    "# Create the theano model\n",
    "gp.set_interpolator(model_dyke,\n",
    "                         compile_theano=True,\n",
    "                         theano_optimizer='fast_compile',\n",
    "                         verbose=[]);"
   ]
  },
  {
   "cell_type": "code",
   "execution_count": 93,
   "metadata": {},
   "outputs": [],
   "source": [
    "# Compute the model\n",
    "sol_dyke = gp.compute_model(model_dyke, compute_mesh=True)"
   ]
  },
  {
   "cell_type": "code",
   "execution_count": 95,
   "metadata": {},
   "outputs": [
    {
     "data": {
      "text/plain": [
       "<gempy.plot.visualization_2d.Plot2D at 0x1892ad99508>"
      ]
     },
     "execution_count": 95,
     "metadata": {},
     "output_type": "execute_result"
    },
    {
     "data": {
      "image/png": "[encoded data removed]",
      "text/plain": [
       "<Figure size 432x288 with 1 Axes>"
      ]
     },
     "metadata": {
      "needs_background": "light"
     },
     "output_type": "display_data"
    }
   ],
   "source": [
    "gp.plot_2d(model_dyke, direction='y', show_block=True, show_boundaries=False, \n",
    "           show_data=False, show_results=True)"
   ]
  },
  {
   "cell_type": "code",
   "execution_count": null,
   "metadata": {},
   "outputs": [],
   "source": []
  }
 ],
 "metadata": {
  "kernelspec": {
   "display_name": "Python [conda env:env_gempy]",
   "language": "python",
   "name": "conda-env-env_gempy-py"
  },
  "language_info": {
   "codemirror_mode": {
    "name": "ipython",
    "version": 3
   },
   "file_extension": ".py",
   "mimetype": "text/x-python",
   "name": "python",
   "nbconvert_exporter": "python",
   "pygments_lexer": "ipython3",
   "version": "3.7.8"
  }
 },
 "nbformat": 4,
 "nbformat_minor": 4
}
