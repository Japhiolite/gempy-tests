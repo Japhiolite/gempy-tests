{
 "cells": [
  {
   "cell_type": "code",
   "execution_count": 3,
   "id": "7c9e2359",
   "metadata": {},
   "outputs": [],
   "source": [
    "import gempy as gp\n",
    "\n",
    "\n",
    "import theano  # type: ignore\n",
    "\n",
    "theano.config.gcc.cxxflags = \"-Wno-c++11-narrowing\""
   ]
  },
  {
   "cell_type": "code",
   "execution_count": 4,
   "id": "7d306cc3",
   "metadata": {},
   "outputs": [
    {
     "name": "stdout",
     "output_type": "stream",
     "text": [
      "Active grids: ['regular']\n",
      "Setting kriging parameters to their default values.\n",
      "Compiling theano function...\n"
     ]
    },
    {
     "name": "stderr",
     "output_type": "stream",
     "text": [
      "INFO (theano.gof.compilelock): Refreshing lock /Users/jan/.theano/compiledir_macOS-10.16-x86_64-i386-64bit-i386-3.8.12-64/lock_dir/lock\n"
     ]
    },
    {
     "name": "stdout",
     "output_type": "stream",
     "text": [
      "Level of Optimization:  fast_compile\n",
      "Device:  cpu\n",
      "Precision:  float64\n",
      "Number of faults:  0\n",
      "Compilation Done!\n",
      "Kriging values: \n",
      "                      values\n",
      "range                 150.0\n",
      "$C_o$            535.714286\n",
      "drift equations      [3, 3]\n"
     ]
    }
   ],
   "source": [
    "# Import data\n",
    "# Create a model instance\n",
    "glob_model = gp.create_model('global_model')\n",
    "\n",
    "# Initialize the model, set dimension and load interface and orientation data\n",
    "gp.init_data(glob_model, [0, 100., 0, 50., 0, 100.], [50, 50, 50],\n",
    "            path_i = '../data/hierarchical_modeling/hierarchical_model_interfaces_fault.csv',\n",
    "            path_o = '../data/hierarchical_modeling/hierarchical_model_orientations_fault.csv');\n",
    "\n",
    "# set interpolator\n",
    "gp.set_interpolator(glob_model, theano_optimizer='fast_compile', verbose=[])\n",
    "\n",
    "# Compute the model\n",
    "sol_glob = gp.compute_model(glob_model)"
   ]
  },
  {
   "cell_type": "code",
   "execution_count": 5,
   "id": "74cb2252",
   "metadata": {},
   "outputs": [
    {
     "name": "stderr",
     "output_type": "stream",
     "text": [
      "/Users/jan/opt/miniconda3/envs/env_gempy_Mac/lib/python3.8/site-packages/gempy/plot/plot_api.py:261: UserWarning: Matplotlib is currently using module://matplotlib_inline.backend_inline, which is a non-GUI backend, so cannot show the figure.\n",
      "  p.fig.show()\n"
     ]
    },
    {
     "data": {
      "text/plain": [
       "<gempy.plot.visualization_2d.Plot2D at 0x7ff39acdaf10>"
      ]
     },
     "execution_count": 5,
     "metadata": {},
     "output_type": "execute_result"
    },
    {
     "data": {
      "image/png": "[encoded data removed]",
      "text/plain": [
       "<Figure size 748.8x514.8 with 1 Axes>"
      ]
     },
     "metadata": {},
     "output_type": "display_data"
    }
   ],
   "source": [
    "gp.plot_2d(glob_model, cell_number=25)"
   ]
  },
  {
   "cell_type": "code",
   "execution_count": 14,
   "id": "056a4273",
   "metadata": {},
   "outputs": [
    {
     "ename": "AttributeError",
     "evalue": "'Project' object has no attribute 'set_coord'",
     "output_type": "error",
     "traceback": [
      "\u001b[0;31m---------------------------------------------------------------------------\u001b[0m",
      "\u001b[0;31mAttributeError\u001b[0m                            Traceback (most recent call last)",
      "\u001b[0;32m/var/folders/z6/20w26f6116n_d3cf2pdvb8fh0000gn/T/ipykernel_3155/2604962206.py\u001b[0m in \u001b[0;36m<module>\u001b[0;34m\u001b[0m\n\u001b[0;32m----> 1\u001b[0;31m gp.core.grid_modules.grid_types.RegularGrid.create_regular_grid_3d(glob_model, extent=[20, 60., 20, 30., 40, 70.], \n\u001b[0m\u001b[1;32m      2\u001b[0m                                                                    resolution=[100, 700, 50])\n",
      "\u001b[0;32m~/opt/miniconda3/envs/env_gempy_Mac/lib/python3.8/site-packages/gempy/core/grid_modules/grid_types.py\u001b[0m in \u001b[0;36mcreate_regular_grid_3d\u001b[0;34m(self, extent, resolution)\u001b[0m\n\u001b[1;32m     71\u001b[0m         \"\"\"\n\u001b[1;32m     72\u001b[0m \u001b[0;34m\u001b[0m\u001b[0m\n\u001b[0;32m---> 73\u001b[0;31m         \u001b[0mcoords\u001b[0m \u001b[0;34m=\u001b[0m \u001b[0mself\u001b[0m\u001b[0;34m.\u001b[0m\u001b[0mset_coord\u001b[0m\u001b[0;34m(\u001b[0m\u001b[0mextent\u001b[0m\u001b[0;34m,\u001b[0m \u001b[0mresolution\u001b[0m\u001b[0;34m)\u001b[0m\u001b[0;34m\u001b[0m\u001b[0;34m\u001b[0m\u001b[0m\n\u001b[0m\u001b[1;32m     74\u001b[0m         \u001b[0mg\u001b[0m \u001b[0;34m=\u001b[0m \u001b[0mnp\u001b[0m\u001b[0;34m.\u001b[0m\u001b[0mmeshgrid\u001b[0m\u001b[0;34m(\u001b[0m\u001b[0;34m*\u001b[0m\u001b[0mcoords\u001b[0m\u001b[0;34m,\u001b[0m \u001b[0mindexing\u001b[0m\u001b[0;34m=\u001b[0m\u001b[0;34m\"ij\"\u001b[0m\u001b[0;34m)\u001b[0m\u001b[0;34m\u001b[0m\u001b[0;34m\u001b[0m\u001b[0m\n\u001b[1;32m     75\u001b[0m         \u001b[0mvalues\u001b[0m \u001b[0;34m=\u001b[0m \u001b[0mnp\u001b[0m\u001b[0;34m.\u001b[0m\u001b[0mvstack\u001b[0m\u001b[0;34m(\u001b[0m\u001b[0mtuple\u001b[0m\u001b[0;34m(\u001b[0m\u001b[0mmap\u001b[0m\u001b[0;34m(\u001b[0m\u001b[0mnp\u001b[0m\u001b[0;34m.\u001b[0m\u001b[0mravel\u001b[0m\u001b[0;34m,\u001b[0m \u001b[0mg\u001b[0m\u001b[0;34m)\u001b[0m\u001b[0;34m)\u001b[0m\u001b[0;34m)\u001b[0m\u001b[0;34m.\u001b[0m\u001b[0mT\u001b[0m\u001b[0;34m.\u001b[0m\u001b[0mastype\u001b[0m\u001b[0;34m(\u001b[0m\u001b[0;34m\"float64\"\u001b[0m\u001b[0;34m)\u001b[0m\u001b[0;34m\u001b[0m\u001b[0;34m\u001b[0m\u001b[0m\n",
      "\u001b[0;31mAttributeError\u001b[0m: 'Project' object has no attribute 'set_coord'"
     ]
    }
   ],
   "source": [
    "gp.core.grid_modules.grid_types.RegularGrid.create_regular_grid_3d(glob_model, extent=[20, 60., 20, 30., 40, 70.], \n",
    "                                                                   resolution=[100, 700, 50])"
   ]
  },
  {
   "cell_type": "code",
   "execution_count": 15,
   "id": "5c5db037",
   "metadata": {},
   "outputs": [],
   "source": [
    "glob_model.set_custom_grid??"
   ]
  }
 ],
 "metadata": {
  "kernelspec": {
   "display_name": "Python [conda env:env_gempy_Mac]",
   "language": "python",
   "name": "conda-env-env_gempy_Mac-py"
  },
  "language_info": {
   "codemirror_mode": {
    "name": "ipython",
    "version": 3
   },
   "file_extension": ".py",
   "mimetype": "text/x-python",
   "name": "python",
   "nbconvert_exporter": "python",
   "pygments_lexer": "ipython3",
   "version": "3.8.12"
  }
 },
 "nbformat": 4,
 "nbformat_minor": 5
}
