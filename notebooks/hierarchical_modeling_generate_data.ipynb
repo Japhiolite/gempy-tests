{
 "cells": [
  {
   "cell_type": "code",
   "execution_count": 1,
   "metadata": {},
   "outputs": [],
   "source": [
    "import numpy as np\n",
    "from scipy.interpolate import Rbf\n",
    "\n",
    "import matplotlib\n",
    "import matplotlib.pyplot as plt\n",
    "from matplotlib import cm\n",
    "\n",
    "# for least square solution to line\n",
    "from numpy.linalg import lstsq\n",
    "\n",
    "plt.rcParams['figure.figsize'] = (8., 6.)\n",
    "plt.rcParams['font.size'] = 16.\n",
    "\n",
    "import sys\n",
    "sys.path.append('../..')\n",
    "import gempy as gp"
   ]
  },
  {
   "cell_type": "code",
   "execution_count": 2,
   "metadata": {},
   "outputs": [],
   "source": [
    "n_pts = 10 # Points per layer\n",
    "\n",
    "# Linear functions for line data\n",
    "l1 = lambda x : 0.25*x + 30\n",
    "l2 = lambda x : 0.25*x + 40\n",
    "l3 = lambda x : 0.25*x + 50\n",
    "\n",
    "# set seed for reproducibility\n",
    "np.random.seed(123)\n",
    "# sampling points\n",
    "l1_pts_x = np.random.uniform(0,90,n_pts)\n",
    "l1_pts_y = l1(l1_pts_x)\n",
    "l2_pts_x = np.random.uniform(0,90,n_pts)\n",
    "l2_pts_y = l2(l2_pts_x)\n",
    "l3_pts_x = np.random.uniform(0,90,n_pts)\n",
    "l3_pts_y = l3(l3_pts_x)"
   ]
  },
  {
   "cell_type": "code",
   "execution_count": 3,
   "metadata": {},
   "outputs": [
    {
     "data": {
      "text/plain": [
       "(0, 100)"
      ]
     },
     "execution_count": 3,
     "metadata": {},
     "output_type": "execute_result"
    },
    {
     "data": {
      "image/png": "[encoded data removed]",
      "text/plain": [
       "<Figure size 432x288 with 1 Axes>"
      ]
     },
     "metadata": {
      "needs_background": "light"
     },
     "output_type": "display_data"
    }
   ],
   "source": [
    "plt.plot(l1_pts_x, l1_pts_y, 'o')\n",
    "plt.plot(l2_pts_x, l2_pts_y, 'o')\n",
    "plt.plot(l3_pts_x, l3_pts_y, 'o')\n",
    "\n",
    "plt.ylim([0,100])"
   ]
  },
  {
   "cell_type": "markdown",
   "metadata": {},
   "source": [
    "## Disrupting series"
   ]
  },
  {
   "cell_type": "code",
   "execution_count": 4,
   "metadata": {},
   "outputs": [],
   "source": [
    "d_point_1 = (40, 60)\n",
    "d_point_2 = (60, 20)"
   ]
  },
  {
   "cell_type": "code",
   "execution_count": 5,
   "metadata": {},
   "outputs": [
    {
     "name": "stdout",
     "output_type": "stream",
     "text": [
      "Line Solution for Disrupting Series is y = -2.0x + 140.0\n"
     ]
    }
   ],
   "source": [
    "x_coords, y_coords = [40,60], [60,20]\n",
    "A = np.vstack([x_coords, np.ones(len(x_coords))]).T\n",
    "m, c = lstsq(A, y_coords, rcond=None)[0]\n",
    "print(\"Line Solution for Disrupting Series is y = {:.1f}x + {:.1f}\".format(*[m,c]))"
   ]
  },
  {
   "cell_type": "code",
   "execution_count": 6,
   "metadata": {},
   "outputs": [],
   "source": [
    "offset = 10 # offset of block on right side of fault\n",
    "f = lambda x : m*x + c\n",
    "\n",
    "# Create filters to determine points on each side of fault\n",
    "filter_l1 = f(l1_pts_x) < l1_pts_y\n",
    "filter_l2 = f(l2_pts_x) < l2_pts_y\n",
    "filter_l3 = f(l3_pts_x) < l3_pts_y\n",
    "\n",
    "# create copies of arrays to avoid confusion...\n",
    "l1_pts_x_fault = l1_pts_x.copy()\n",
    "l1_pts_y_fault = l1_pts_y.copy()\n",
    "l2_pts_x_fault = l2_pts_x.copy()\n",
    "l2_pts_y_fault = l2_pts_y.copy()\n",
    "l3_pts_x_fault = l3_pts_x.copy()\n",
    "l3_pts_y_fault = l3_pts_y.copy()\n",
    "\n",
    "# Adjust y-values\n",
    "l1_pts_y_fault[filter_l1] -= offset\n",
    "l2_pts_y_fault[filter_l2] -= offset\n",
    "l3_pts_y_fault[filter_l3] -= offset\n",
    "# Adjust x-values\n",
    "l1_pts_x_fault[filter_l1] -= 1/m*offset\n",
    "l2_pts_x_fault[filter_l2] -= 1/m*offset\n",
    "l3_pts_x_fault[filter_l3] -= 1/m*offset"
   ]
  },
  {
   "cell_type": "code",
   "execution_count": 7,
   "metadata": {},
   "outputs": [
    {
     "data": {
      "text/plain": [
       "(0, 100)"
      ]
     },
     "execution_count": 7,
     "metadata": {},
     "output_type": "execute_result"
    },
    {
     "data": {
      "image/png": "[encoded data removed]",
      "text/plain": [
       "<Figure size 432x288 with 1 Axes>"
      ]
     },
     "metadata": {
      "needs_background": "light"
     },
     "output_type": "display_data"
    }
   ],
   "source": [
    "f = lambda x : m*x + c\n",
    "\n",
    "plt.plot(l1_pts_x_fault, l1_pts_y_fault, 'o')\n",
    "plt.plot(l2_pts_x_fault, l2_pts_y_fault, 'o')\n",
    "plt.plot(l3_pts_x_fault, l3_pts_y_fault, 'o')\n",
    "\n",
    "plt.plot(x_coords, y_coords, 'ro')\n",
    "xrange = np.arange(100)\n",
    "plt.plot(xrange, f(xrange))\n",
    "\n",
    "plt.ylim([0,100])\n",
    "\n",
    "# plt.axis('equal')"
   ]
  },
  {
   "cell_type": "code",
   "execution_count": 8,
   "metadata": {},
   "outputs": [
    {
     "data": {
      "text/plain": [
       "[<matplotlib.lines.Line2D at 0x7f2014f0dc88>]"
      ]
     },
     "execution_count": 8,
     "metadata": {},
     "output_type": "execute_result"
    },
    {
     "data": {
      "image/png": "[encoded data removed]",
      "text/plain": [
       "<Figure size 432x288 with 1 Axes>"
      ]
     },
     "metadata": {
      "needs_background": "light"
     },
     "output_type": "display_data"
    }
   ],
   "source": [
    "# set up grid\n",
    "ti = np.linspace(0, 100, 100)\n",
    "XI, YI = np.meshgrid(ti, ti)\n",
    "# trick: add points at lower left and upper right to obtain gradients in field\n",
    "# (otherwise, we would simply interpolate zeros...)\n",
    "x_coords_ext = np.hstack([x_coords, 0, 100])\n",
    "y_coords_ext = np.hstack([y_coords, 0, 100])\n",
    "rbf = Rbf(x_coords_ext, y_coords_ext, [0,0,-1,1], function=\"gaussian\", epsilon=1000)\n",
    "ZI = rbf(XI, YI)\n",
    "plt.contour(ZI, 0)\n",
    "plt.plot(x_coords, y_coords, 'ro')"
   ]
  },
  {
   "cell_type": "code",
   "execution_count": 9,
   "metadata": {},
   "outputs": [],
   "source": [
    "# left domain\n",
    "l1_pts_x_left = l1_pts_x_fault[np.where(rbf(l1_pts_x_fault, l1_pts_y_fault) < 0)]\n",
    "l1_pts_y_left = l1_pts_y_fault[np.where(rbf(l1_pts_x_fault, l1_pts_y_fault) < 0)]\n",
    "l2_pts_x_left = l2_pts_x_fault[np.where(rbf(l2_pts_x_fault, l2_pts_y_fault) < 0)]\n",
    "l2_pts_y_left = l2_pts_y_fault[np.where(rbf(l2_pts_x_fault, l2_pts_y_fault) < 0)]\n",
    "l3_pts_x_left = l3_pts_x_fault[np.where(rbf(l3_pts_x_fault, l3_pts_y_fault) < 0)]\n",
    "l3_pts_y_left = l3_pts_y_fault[np.where(rbf(l3_pts_x_fault, l3_pts_y_fault) < 0)]\n",
    "# right domain\n",
    "l1_pts_x_right = l1_pts_x_fault[np.where(rbf(l1_pts_x_fault, l1_pts_y_fault) > 0)]\n",
    "l1_pts_y_right = l1_pts_y_fault[np.where(rbf(l1_pts_x_fault, l1_pts_y_fault) > 0)]\n",
    "l2_pts_x_right = l2_pts_x_fault[np.where(rbf(l2_pts_x_fault, l2_pts_y_fault) > 0)]\n",
    "l2_pts_y_right = l2_pts_y_fault[np.where(rbf(l2_pts_x_fault, l2_pts_y_fault) > 0)]\n",
    "l3_pts_x_right = l3_pts_x_fault[np.where(rbf(l3_pts_x_fault, l3_pts_y_fault) > 0)]\n",
    "l3_pts_y_right = l3_pts_y_fault[np.where(rbf(l3_pts_x_fault, l3_pts_y_fault) > 0)]"
   ]
  },
  {
   "cell_type": "code",
   "execution_count": 32,
   "metadata": {},
   "outputs": [
    {
     "data": {
      "text/plain": [
       "array([29.06630225, 32.56097901, 20.54369078, 26.43426417])"
      ]
     },
     "execution_count": 32,
     "metadata": {},
     "output_type": "execute_result"
    }
   ],
   "source": [
    "l3_pts_x_left"
   ]
  },
  {
   "cell_type": "code",
   "execution_count": 10,
   "metadata": {},
   "outputs": [],
   "source": [
    "import pandas as pd"
   ]
  },
  {
   "cell_type": "code",
   "execution_count": 15,
   "metadata": {},
   "outputs": [],
   "source": [
    "xses = np.concatenate([l1_pts_x_right, l2_pts_x_right, l3_pts_x_right])\n",
    "yses = np.ones_like(xses)\n",
    "zses = np.concatenate([l1_pts_y_right, l2_pts_y_right, l3_pts_y_right])\n"
   ]
  },
  {
   "cell_type": "code",
   "execution_count": 19,
   "metadata": {},
   "outputs": [],
   "source": [
    "xses = x_coords\n",
    "yses = np.ones_like(x_coords)\n",
    "zses = y_coords"
   ]
  },
  {
   "cell_type": "code",
   "execution_count": 20,
   "metadata": {},
   "outputs": [],
   "source": [
    "interfaces ={'x':xses, 'y':yses, 'z':zses}"
   ]
  },
  {
   "cell_type": "code",
   "execution_count": 21,
   "metadata": {},
   "outputs": [],
   "source": [
    "df = pd.DataFrame.from_dict(interfaces)"
   ]
  },
  {
   "cell_type": "code",
   "execution_count": 22,
   "metadata": {},
   "outputs": [],
   "source": [
    "df.to_csv('hierarchy_interfaces_fault.csv')"
   ]
  },
  {
   "cell_type": "code",
   "execution_count": 14,
   "metadata": {},
   "outputs": [
    {
     "data": {
      "text/plain": [
       "(0, 100)"
      ]
     },
     "execution_count": 14,
     "metadata": {},
     "output_type": "execute_result"
    },
    {
     "data": {
      "image/png": "[encoded data removed]",
      "text/plain": [
       "<Figure size 432x288 with 1 Axes>"
      ]
     },
     "metadata": {
      "needs_background": "light"
     },
     "output_type": "display_data"
    }
   ],
   "source": [
    "df.plot.scatter('x', 'z')\n",
    "plt.ylim([0, 100])"
   ]
  },
  {
   "cell_type": "code",
   "execution_count": 15,
   "metadata": {},
   "outputs": [],
   "source": [
    "import math as m"
   ]
  },
  {
   "cell_type": "code",
   "execution_count": 33,
   "metadata": {},
   "outputs": [],
   "source": [
    "def get_deg(x, y):\n",
    "    dx = max(x) - min(x)\n",
    "    dy = max(y) - min(y)\n",
    "    \n",
    "    degs = m.atan(dy/dx) * (180/m.pi)\n",
    "    return degs"
   ]
  },
  {
   "cell_type": "code",
   "execution_count": 34,
   "metadata": {},
   "outputs": [
    {
     "data": {
      "text/plain": [
       "63.43494882292201"
      ]
     },
     "execution_count": 34,
     "metadata": {},
     "output_type": "execute_result"
    }
   ],
   "source": [
    "m.atan(40/20)*(180/np.pi)"
   ]
  },
  {
   "cell_type": "code",
   "execution_count": 35,
   "metadata": {},
   "outputs": [
    {
     "data": {
      "text/plain": [
       "63.43494882292201"
      ]
     },
     "execution_count": 35,
     "metadata": {},
     "output_type": "execute_result"
    }
   ],
   "source": [
    "get_deg(x_coords,y_coords)"
   ]
  },
  {
   "cell_type": "code",
   "execution_count": 38,
   "metadata": {},
   "outputs": [
    {
     "data": {
      "text/plain": [
       "14.036243467926482"
      ]
     },
     "execution_count": 38,
     "metadata": {},
     "output_type": "execute_result"
    }
   ],
   "source": [
    "get_deg(l2_pts_x, l2_pts_y)"
   ]
  },
  {
   "cell_type": "code",
   "execution_count": 39,
   "metadata": {},
   "outputs": [
    {
     "data": {
      "text/plain": [
       "array([67.6822267 , 25.75254015, 20.41663082, 54.61832922, 69.75220728,\n",
       "       38.07958141, 93.26877785, 66.63467647, 43.28387113, 35.29057664])"
      ]
     },
     "execution_count": 39,
     "metadata": {},
     "output_type": "execute_result"
    }
   ],
   "source": [
    "l1_pts_x_fault"
   ]
  },
  {
   "cell_type": "code",
   "execution_count": 40,
   "metadata": {},
   "outputs": [
    {
     "data": {
      "text/plain": [
       "array([35.67055668, 36.43813504, 35.10415771, 32.4045823 , 36.18805182,\n",
       "       39.51989535, 42.06719446, 35.40866912, 40.82096778, 38.82264416])"
      ]
     },
     "execution_count": 40,
     "metadata": {},
     "output_type": "execute_result"
    }
   ],
   "source": [
    "l1_pts_y_fault"
   ]
  },
  {
   "cell_type": "code",
   "execution_count": 43,
   "metadata": {},
   "outputs": [
    {
     "data": {
      "text/plain": [
       "10"
      ]
     },
     "execution_count": 43,
     "metadata": {},
     "output_type": "execute_result"
    }
   ],
   "source": [
    "len(l3_pts_x_fault)"
   ]
  },
  {
   "cell_type": "code",
   "execution_count": 33,
   "metadata": {},
   "outputs": [],
   "source": [
    "left_f = pd.read_csv('hierarchy_interfaces_fault_left.csv')\n",
    "right_f = pd.read_csv('hierarchy_interfaces_fault_right.csv')\n",
    "f = pd.read_csv('hierarchy_interfaces_fault.csv')"
   ]
  },
  {
   "cell_type": "code",
   "execution_count": null,
   "metadata": {},
   "outputs": [],
   "source": []
  }
 ],
 "metadata": {
  "hide_input": false,
  "kernelspec": {
   "display_name": "Python 3",
   "language": "python",
   "name": "python3"
  },
  "language_info": {
   "codemirror_mode": {
    "name": "ipython",
    "version": 3
   },
   "file_extension": ".py",
   "mimetype": "text/x-python",
   "name": "python",
   "nbconvert_exporter": "python",
   "pygments_lexer": "ipython3",
   "version": "3.6.10"
  },
  "latex_envs": {
   "LaTeX_envs_menu_present": true,
   "autoclose": false,
   "autocomplete": true,
   "bibliofile": "biblio.bib",
   "cite_by": "apalike",
   "current_citInitial": 1,
   "eqLabelWithNumbers": true,
   "eqNumInitial": 1,
   "hotkeys": {
    "equation": "Ctrl-E",
    "itemize": "Ctrl-I"
   },
   "labels_anchors": false,
   "latex_user_defs": false,
   "report_style_numbering": false,
   "user_envs_cfg": false
  },
  "toc": {
   "base_numbering": 1,
   "nav_menu": {},
   "number_sections": false,
   "sideBar": true,
   "skip_h1_title": false,
   "title_cell": "Table of Contents",
   "title_sidebar": "Contents",
   "toc_cell": false,
   "toc_position": {},
   "toc_section_display": true,
   "toc_window_display": false
  },
  "varInspector": {
   "cols": {
    "lenName": 16,
    "lenType": 16,
    "lenVar": 40
   },
   "kernels_config": {
    "python": {
     "delete_cmd_postfix": "",
     "delete_cmd_prefix": "del ",
     "library": "var_list.py",
     "varRefreshCmd": "print(var_dic_list())"
    },
    "r": {
     "delete_cmd_postfix": ") ",
     "delete_cmd_prefix": "rm(",
     "library": "var_list.r",
     "varRefreshCmd": "cat(var_dic_list()) "
    }
   },
   "types_to_exclude": [
    "module",
    "function",
    "builtin_function_or_method",
    "instance",
    "_Feature"
   ],
   "window_display": false
  }
 },
 "nbformat": 4,
 "nbformat_minor": 2
}
