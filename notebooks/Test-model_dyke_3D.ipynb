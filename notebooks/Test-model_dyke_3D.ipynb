{
 "cells": [
  {
   "cell_type": "code",
   "execution_count": 1,
   "metadata": {},
   "outputs": [],
   "source": [
    "import gempy as gp\n",
    "import numpy as np\n",
    "%matplotlib inline"
   ]
  },
  {
   "cell_type": "markdown",
   "metadata": {},
   "source": [
    "## Geological Model with just a Fault"
   ]
  },
  {
   "cell_type": "code",
   "execution_count": 2,
   "metadata": {},
   "outputs": [
    {
     "name": "stdout",
     "output_type": "stream",
     "text": [
      "Active grids: ['regular']\n"
     ]
    }
   ],
   "source": [
    "# Create a model instance\n",
    "geo_model = gp.create_model('no_dyke')\n",
    "\n",
    "# Initialize the model, set dimension and load interface and orientation data\n",
    "gp.init_data(geo_model, [0., 1200., 0., 1000., 0., 1500.], [100, 100, 100],\n",
    "            path_i = '../data/07_Dyke_Model_3D_wo_Dyke_interfaces.csv',\n",
    "            path_o = '../data/07_Dyke_Model_3D_wo_Dyke_orientations.csv');\n",
    "#geo_model.set_topography??"
   ]
  },
  {
   "cell_type": "code",
   "execution_count": 3,
   "metadata": {},
   "outputs": [
    {
     "name": "stderr",
     "output_type": "stream",
     "text": [
      "C:\\Users\\brigg\\miniconda3\\envs\\env_gempy\\lib\\site-packages\\gempy\\plot\\plot_api.py:261: UserWarning: Matplotlib is currently using module://ipykernel.pylab.backend_inline, which is a non-GUI backend, so cannot show the figure.\n",
      "  p.fig.show()\n"
     ]
    },
    {
     "data": {
      "text/plain": [
       "<gempy.plot.visualization_2d.Plot2D at 0x2277a2dcfc8>"
      ]
     },
     "execution_count": 3,
     "metadata": {},
     "output_type": "execute_result"
    },
    {
     "data": {
      "image/png": "[encoded data removed]",
      "text/plain": [
       "<Figure size 432x288 with 1 Axes>"
      ]
     },
     "metadata": {
      "needs_background": "light"
     },
     "output_type": "display_data"
    }
   ],
   "source": [
    "gp.plot_2d(geo_model, kwargs={\"legend\":False})"
   ]
  },
  {
   "cell_type": "code",
   "execution_count": 4,
   "metadata": {},
   "outputs": [
    {
     "name": "stdout",
     "output_type": "stream",
     "text": [
      "Setting kriging parameters to their default values.\n",
      "Compiling theano function...\n",
      "Level of Optimization:  fast_compile\n",
      "Device:  cpu\n",
      "Precision:  float64\n",
      "Number of faults:  0\n",
      "Compilation Done!\n",
      "Kriging values: \n",
      "                   values\n",
      "range            2165.64\n",
      "$C_o$             111667\n",
      "drift equations   [3, 3]\n"
     ]
    }
   ],
   "source": [
    "# Set the interpolator function\n",
    "# Create the theano model\n",
    "gp.set_interpolator(geo_model,\n",
    "                         compile_theano=True,\n",
    "                         theano_optimizer='fast_compile',\n",
    "                         verbose=[]);"
   ]
  },
  {
   "cell_type": "code",
   "execution_count": 6,
   "metadata": {},
   "outputs": [
    {
     "data": {
      "text/html": [
       "<style  type=\"text/css\" >\n",
       "    #T_f63a235c_e14f_11ea_8d36_d05099154a5crow0_col3 {\n",
       "            background-color:  #015482;\n",
       "        }    #T_f63a235c_e14f_11ea_8d36_d05099154a5crow1_col3 {\n",
       "            background-color:  #9f0052;\n",
       "        }    #T_f63a235c_e14f_11ea_8d36_d05099154a5crow2_col3 {\n",
       "            background-color:  #ffbe00;\n",
       "        }    #T_f63a235c_e14f_11ea_8d36_d05099154a5crow3_col3 {\n",
       "            background-color:  #728f02;\n",
       "        }</style><table id=\"T_f63a235c_e14f_11ea_8d36_d05099154a5c\" ><thead>    <tr>        <th class=\"blank level0\" ></th>        <th class=\"col_heading level0 col0\" >surface</th>        <th class=\"col_heading level0 col1\" >series</th>        <th class=\"col_heading level0 col2\" >order_surfaces</th>        <th class=\"col_heading level0 col3\" >color</th>        <th class=\"col_heading level0 col4\" >id</th>    </tr></thead><tbody>\n",
       "                <tr>\n",
       "                        <th id=\"T_f63a235c_e14f_11ea_8d36_d05099154a5clevel0_row0\" class=\"row_heading level0 row0\" >0</th>\n",
       "                        <td id=\"T_f63a235c_e14f_11ea_8d36_d05099154a5crow0_col0\" class=\"data row0 col0\" >Main_Fault</td>\n",
       "                        <td id=\"T_f63a235c_e14f_11ea_8d36_d05099154a5crow0_col1\" class=\"data row0 col1\" >Default series</td>\n",
       "                        <td id=\"T_f63a235c_e14f_11ea_8d36_d05099154a5crow0_col2\" class=\"data row0 col2\" >1</td>\n",
       "                        <td id=\"T_f63a235c_e14f_11ea_8d36_d05099154a5crow0_col3\" class=\"data row0 col3\" >#015482</td>\n",
       "                        <td id=\"T_f63a235c_e14f_11ea_8d36_d05099154a5crow0_col4\" class=\"data row0 col4\" >1</td>\n",
       "            </tr>\n",
       "            <tr>\n",
       "                        <th id=\"T_f63a235c_e14f_11ea_8d36_d05099154a5clevel0_row1\" class=\"row_heading level0 row1\" >1</th>\n",
       "                        <td id=\"T_f63a235c_e14f_11ea_8d36_d05099154a5crow1_col0\" class=\"data row1 col0\" >Sandstone</td>\n",
       "                        <td id=\"T_f63a235c_e14f_11ea_8d36_d05099154a5crow1_col1\" class=\"data row1 col1\" >Default series</td>\n",
       "                        <td id=\"T_f63a235c_e14f_11ea_8d36_d05099154a5crow1_col2\" class=\"data row1 col2\" >2</td>\n",
       "                        <td id=\"T_f63a235c_e14f_11ea_8d36_d05099154a5crow1_col3\" class=\"data row1 col3\" >#9f0052</td>\n",
       "                        <td id=\"T_f63a235c_e14f_11ea_8d36_d05099154a5crow1_col4\" class=\"data row1 col4\" >2</td>\n",
       "            </tr>\n",
       "            <tr>\n",
       "                        <th id=\"T_f63a235c_e14f_11ea_8d36_d05099154a5clevel0_row2\" class=\"row_heading level0 row2\" >2</th>\n",
       "                        <td id=\"T_f63a235c_e14f_11ea_8d36_d05099154a5crow2_col0\" class=\"data row2 col0\" >Limestone</td>\n",
       "                        <td id=\"T_f63a235c_e14f_11ea_8d36_d05099154a5crow2_col1\" class=\"data row2 col1\" >Default series</td>\n",
       "                        <td id=\"T_f63a235c_e14f_11ea_8d36_d05099154a5crow2_col2\" class=\"data row2 col2\" >3</td>\n",
       "                        <td id=\"T_f63a235c_e14f_11ea_8d36_d05099154a5crow2_col3\" class=\"data row2 col3\" >#ffbe00</td>\n",
       "                        <td id=\"T_f63a235c_e14f_11ea_8d36_d05099154a5crow2_col4\" class=\"data row2 col4\" >3</td>\n",
       "            </tr>\n",
       "            <tr>\n",
       "                        <th id=\"T_f63a235c_e14f_11ea_8d36_d05099154a5clevel0_row3\" class=\"row_heading level0 row3\" >3</th>\n",
       "                        <td id=\"T_f63a235c_e14f_11ea_8d36_d05099154a5crow3_col0\" class=\"data row3 col0\" >basement</td>\n",
       "                        <td id=\"T_f63a235c_e14f_11ea_8d36_d05099154a5crow3_col1\" class=\"data row3 col1\" >Basement</td>\n",
       "                        <td id=\"T_f63a235c_e14f_11ea_8d36_d05099154a5crow3_col2\" class=\"data row3 col2\" >1</td>\n",
       "                        <td id=\"T_f63a235c_e14f_11ea_8d36_d05099154a5crow3_col3\" class=\"data row3 col3\" >#728f02</td>\n",
       "                        <td id=\"T_f63a235c_e14f_11ea_8d36_d05099154a5crow3_col4\" class=\"data row3 col4\" >4</td>\n",
       "            </tr>\n",
       "    </tbody></table>"
      ],
      "text/plain": [
       "      surface          series  order_surfaces    color  id\n",
       "0  Main_Fault  Default series               1  #015482   1\n",
       "1   Sandstone  Default series               2  #9f0052   2\n",
       "2   Limestone  Default series               3  #ffbe00   3\n",
       "3    basement        Basement               1  #728f02   4"
      ]
     },
     "execution_count": 6,
     "metadata": {},
     "output_type": "execute_result"
    }
   ],
   "source": [
    "geo_model.surfaces"
   ]
  },
  {
   "cell_type": "code",
   "execution_count": 7,
   "metadata": {},
   "outputs": [
    {
     "data": {
      "text/html": [
       "<style  type=\"text/css\" >\n",
       "    #T_f6a1b88a_e14f_11ea_af23_d05099154a5crow0_col3 {\n",
       "            background-color:  #015482;\n",
       "        }    #T_f6a1b88a_e14f_11ea_af23_d05099154a5crow1_col3 {\n",
       "            background-color:  #9f0052;\n",
       "        }    #T_f6a1b88a_e14f_11ea_af23_d05099154a5crow2_col3 {\n",
       "            background-color:  #ffbe00;\n",
       "        }    #T_f6a1b88a_e14f_11ea_af23_d05099154a5crow3_col3 {\n",
       "            background-color:  #728f02;\n",
       "        }</style><table id=\"T_f6a1b88a_e14f_11ea_af23_d05099154a5c\" ><thead>    <tr>        <th class=\"blank level0\" ></th>        <th class=\"col_heading level0 col0\" >surface</th>        <th class=\"col_heading level0 col1\" >series</th>        <th class=\"col_heading level0 col2\" >order_surfaces</th>        <th class=\"col_heading level0 col3\" >color</th>        <th class=\"col_heading level0 col4\" >id</th>    </tr></thead><tbody>\n",
       "                <tr>\n",
       "                        <th id=\"T_f6a1b88a_e14f_11ea_af23_d05099154a5clevel0_row0\" class=\"row_heading level0 row0\" >0</th>\n",
       "                        <td id=\"T_f6a1b88a_e14f_11ea_af23_d05099154a5crow0_col0\" class=\"data row0 col0\" >Main_Fault</td>\n",
       "                        <td id=\"T_f6a1b88a_e14f_11ea_af23_d05099154a5crow0_col1\" class=\"data row0 col1\" >Fault_series</td>\n",
       "                        <td id=\"T_f6a1b88a_e14f_11ea_af23_d05099154a5crow0_col2\" class=\"data row0 col2\" >1</td>\n",
       "                        <td id=\"T_f6a1b88a_e14f_11ea_af23_d05099154a5crow0_col3\" class=\"data row0 col3\" >#015482</td>\n",
       "                        <td id=\"T_f6a1b88a_e14f_11ea_af23_d05099154a5crow0_col4\" class=\"data row0 col4\" >1</td>\n",
       "            </tr>\n",
       "            <tr>\n",
       "                        <th id=\"T_f6a1b88a_e14f_11ea_af23_d05099154a5clevel0_row1\" class=\"row_heading level0 row1\" >1</th>\n",
       "                        <td id=\"T_f6a1b88a_e14f_11ea_af23_d05099154a5crow1_col0\" class=\"data row1 col0\" >Sandstone</td>\n",
       "                        <td id=\"T_f6a1b88a_e14f_11ea_af23_d05099154a5crow1_col1\" class=\"data row1 col1\" >Sediment_series</td>\n",
       "                        <td id=\"T_f6a1b88a_e14f_11ea_af23_d05099154a5crow1_col2\" class=\"data row1 col2\" >1</td>\n",
       "                        <td id=\"T_f6a1b88a_e14f_11ea_af23_d05099154a5crow1_col3\" class=\"data row1 col3\" >#9f0052</td>\n",
       "                        <td id=\"T_f6a1b88a_e14f_11ea_af23_d05099154a5crow1_col4\" class=\"data row1 col4\" >2</td>\n",
       "            </tr>\n",
       "            <tr>\n",
       "                        <th id=\"T_f6a1b88a_e14f_11ea_af23_d05099154a5clevel0_row2\" class=\"row_heading level0 row2\" >2</th>\n",
       "                        <td id=\"T_f6a1b88a_e14f_11ea_af23_d05099154a5crow2_col0\" class=\"data row2 col0\" >Limestone</td>\n",
       "                        <td id=\"T_f6a1b88a_e14f_11ea_af23_d05099154a5crow2_col1\" class=\"data row2 col1\" >Sediment_series</td>\n",
       "                        <td id=\"T_f6a1b88a_e14f_11ea_af23_d05099154a5crow2_col2\" class=\"data row2 col2\" >2</td>\n",
       "                        <td id=\"T_f6a1b88a_e14f_11ea_af23_d05099154a5crow2_col3\" class=\"data row2 col3\" >#ffbe00</td>\n",
       "                        <td id=\"T_f6a1b88a_e14f_11ea_af23_d05099154a5crow2_col4\" class=\"data row2 col4\" >3</td>\n",
       "            </tr>\n",
       "            <tr>\n",
       "                        <th id=\"T_f6a1b88a_e14f_11ea_af23_d05099154a5clevel0_row3\" class=\"row_heading level0 row3\" >3</th>\n",
       "                        <td id=\"T_f6a1b88a_e14f_11ea_af23_d05099154a5crow3_col0\" class=\"data row3 col0\" >basement</td>\n",
       "                        <td id=\"T_f6a1b88a_e14f_11ea_af23_d05099154a5crow3_col1\" class=\"data row3 col1\" >Basement</td>\n",
       "                        <td id=\"T_f6a1b88a_e14f_11ea_af23_d05099154a5crow3_col2\" class=\"data row3 col2\" >1</td>\n",
       "                        <td id=\"T_f6a1b88a_e14f_11ea_af23_d05099154a5crow3_col3\" class=\"data row3 col3\" >#728f02</td>\n",
       "                        <td id=\"T_f6a1b88a_e14f_11ea_af23_d05099154a5crow3_col4\" class=\"data row3 col4\" >4</td>\n",
       "            </tr>\n",
       "    </tbody></table>"
      ],
      "text/plain": [
       "      surface           series  order_surfaces    color  id\n",
       "0  Main_Fault     Fault_series               1  #015482   1\n",
       "1   Sandstone  Sediment_series               1  #9f0052   2\n",
       "2   Limestone  Sediment_series               2  #ffbe00   3\n",
       "3    basement         Basement               1  #728f02   4"
      ]
     },
     "execution_count": 7,
     "metadata": {},
     "output_type": "execute_result"
    }
   ],
   "source": [
    "# Assign formations to series\n",
    "gp.map_series_to_surfaces(geo_model,\n",
    "                         {\"Fault_series\":'Main_Fault',\n",
    "                         \"Sediment_series\":('Limestone', 'Sandstone')},\n",
    "                         remove_unused_series=True)\n",
    "geo_model.surfaces"
   ]
  },
  {
   "cell_type": "code",
   "execution_count": 8,
   "metadata": {},
   "outputs": [],
   "source": [
    "# Set Faults\n",
    "geo_model.set_is_fault(['Fault_series'],\n",
    "                      change_color=False);"
   ]
  },
  {
   "cell_type": "code",
   "execution_count": 9,
   "metadata": {},
   "outputs": [],
   "source": [
    "# Compute the model\n",
    "sol = gp.compute_model(geo_model, compute_mesh=True)"
   ]
  },
  {
   "cell_type": "code",
   "execution_count": 10,
   "metadata": {},
   "outputs": [
    {
     "name": "stderr",
     "output_type": "stream",
     "text": [
      "C:\\Users\\brigg\\miniconda3\\envs\\env_gempy\\lib\\site-packages\\gempy\\plot\\plot_api.py:261: UserWarning: Matplotlib is currently using module://ipykernel.pylab.backend_inline, which is a non-GUI backend, so cannot show the figure.\n",
      "  p.fig.show()\n"
     ]
    },
    {
     "data": {
      "text/plain": [
       "<gempy.plot.visualization_2d.Plot2D at 0x2270235cec8>"
      ]
     },
     "execution_count": 10,
     "metadata": {},
     "output_type": "execute_result"
    },
    {
     "data": {
      "image/png": "[encoded data removed]",
      "text/plain": [
       "<Figure size 432x288 with 1 Axes>"
      ]
     },
     "metadata": {
      "needs_background": "light"
     },
     "output_type": "display_data"
    }
   ],
   "source": [
    "gp.plot_2d(geo_model, direction='y', show_block=True, show_boundaries=True, \n",
    "           show_data=False, show_results=True)"
   ]
  },
  {
   "cell_type": "markdown",
   "metadata": {},
   "source": [
    "## Introducing a Dyke to try to act as a Fault body"
   ]
  },
  {
   "cell_type": "code",
   "execution_count": 11,
   "metadata": {},
   "outputs": [
    {
     "name": "stdout",
     "output_type": "stream",
     "text": [
      "Active grids: ['regular']\n"
     ]
    }
   ],
   "source": [
    "# Create a model instance\n",
    "model_dyke = gp.create_model('with_dyke')\n",
    "\n",
    "# Initialize the model, set dimension and load interface and orientation data\n",
    "gp.init_data(model_dyke, [0., 1200., 0., 1000., 0., 1500.], [100, 100, 100],\n",
    "            path_i = '../data/07_Dyke_Model_Dyke_interfaces.csv',\n",
    "            path_o = '../data/07_Dyke_Model_Dyke_orientations.csv');"
   ]
  },
  {
   "cell_type": "code",
   "execution_count": 12,
   "metadata": {},
   "outputs": [
    {
     "data": {
      "text/plain": [
       "<gempy.plot.visualization_2d.Plot2D at 0x227009f49c8>"
      ]
     },
     "execution_count": 12,
     "metadata": {},
     "output_type": "execute_result"
    },
    {
     "data": {
      "image/png": "[encoded data removed]",
      "text/plain": [
       "<Figure size 432x288 with 1 Axes>"
      ]
     },
     "metadata": {
      "needs_background": "light"
     },
     "output_type": "display_data"
    }
   ],
   "source": [
    "gp.plot_2d(model_dyke)"
   ]
  },
  {
   "cell_type": "code",
   "execution_count": 13,
   "metadata": {
    "scrolled": true
   },
   "outputs": [
    {
     "data": {
      "text/html": [
       "<style  type=\"text/css\" >\n",
       "    #T_fe04deb4_e14f_11ea_8d36_d05099154a5crow0_col3 {\n",
       "            background-color:  #015482;\n",
       "        }    #T_fe04deb4_e14f_11ea_8d36_d05099154a5crow1_col3 {\n",
       "            background-color:  #9f0052;\n",
       "        }    #T_fe04deb4_e14f_11ea_8d36_d05099154a5crow2_col3 {\n",
       "            background-color:  #ffbe00;\n",
       "        }</style><table id=\"T_fe04deb4_e14f_11ea_8d36_d05099154a5c\" ><thead>    <tr>        <th class=\"blank level0\" ></th>        <th class=\"col_heading level0 col0\" >surface</th>        <th class=\"col_heading level0 col1\" >series</th>        <th class=\"col_heading level0 col2\" >order_surfaces</th>        <th class=\"col_heading level0 col3\" >color</th>        <th class=\"col_heading level0 col4\" >id</th>    </tr></thead><tbody>\n",
       "                <tr>\n",
       "                        <th id=\"T_fe04deb4_e14f_11ea_8d36_d05099154a5clevel0_row0\" class=\"row_heading level0 row0\" >0</th>\n",
       "                        <td id=\"T_fe04deb4_e14f_11ea_8d36_d05099154a5crow0_col0\" class=\"data row0 col0\" >Top</td>\n",
       "                        <td id=\"T_fe04deb4_e14f_11ea_8d36_d05099154a5crow0_col1\" class=\"data row0 col1\" >Sed_series</td>\n",
       "                        <td id=\"T_fe04deb4_e14f_11ea_8d36_d05099154a5crow0_col2\" class=\"data row0 col2\" >1</td>\n",
       "                        <td id=\"T_fe04deb4_e14f_11ea_8d36_d05099154a5crow0_col3\" class=\"data row0 col3\" >#015482</td>\n",
       "                        <td id=\"T_fe04deb4_e14f_11ea_8d36_d05099154a5crow0_col4\" class=\"data row0 col4\" >1</td>\n",
       "            </tr>\n",
       "            <tr>\n",
       "                        <th id=\"T_fe04deb4_e14f_11ea_8d36_d05099154a5clevel0_row1\" class=\"row_heading level0 row1\" >1</th>\n",
       "                        <td id=\"T_fe04deb4_e14f_11ea_8d36_d05099154a5crow1_col0\" class=\"data row1 col0\" >Bottom</td>\n",
       "                        <td id=\"T_fe04deb4_e14f_11ea_8d36_d05099154a5crow1_col1\" class=\"data row1 col1\" >Sed_series</td>\n",
       "                        <td id=\"T_fe04deb4_e14f_11ea_8d36_d05099154a5crow1_col2\" class=\"data row1 col2\" >2</td>\n",
       "                        <td id=\"T_fe04deb4_e14f_11ea_8d36_d05099154a5crow1_col3\" class=\"data row1 col3\" >#9f0052</td>\n",
       "                        <td id=\"T_fe04deb4_e14f_11ea_8d36_d05099154a5crow1_col4\" class=\"data row1 col4\" >2</td>\n",
       "            </tr>\n",
       "            <tr>\n",
       "                        <th id=\"T_fe04deb4_e14f_11ea_8d36_d05099154a5clevel0_row2\" class=\"row_heading level0 row2\" >2</th>\n",
       "                        <td id=\"T_fe04deb4_e14f_11ea_8d36_d05099154a5crow2_col0\" class=\"data row2 col0\" >basement</td>\n",
       "                        <td id=\"T_fe04deb4_e14f_11ea_8d36_d05099154a5crow2_col1\" class=\"data row2 col1\" >Basement</td>\n",
       "                        <td id=\"T_fe04deb4_e14f_11ea_8d36_d05099154a5crow2_col2\" class=\"data row2 col2\" >1</td>\n",
       "                        <td id=\"T_fe04deb4_e14f_11ea_8d36_d05099154a5crow2_col3\" class=\"data row2 col3\" >#ffbe00</td>\n",
       "                        <td id=\"T_fe04deb4_e14f_11ea_8d36_d05099154a5crow2_col4\" class=\"data row2 col4\" >3</td>\n",
       "            </tr>\n",
       "    </tbody></table>"
      ],
      "text/plain": [
       "    surface      series  order_surfaces    color  id\n",
       "0       Top  Sed_series               1  #015482   1\n",
       "1    Bottom  Sed_series               2  #9f0052   2\n",
       "2  basement    Basement               1  #ffbe00   3"
      ]
     },
     "execution_count": 13,
     "metadata": {},
     "output_type": "execute_result"
    }
   ],
   "source": [
    "# Assign formations to series\n",
    "gp.map_series_to_surfaces(model_dyke,\n",
    "                         {\"Sed_series\": ('Top', 'Bottom')},\n",
    "                         remove_unused_series=True)\n",
    "model_dyke.surfaces"
   ]
  },
  {
   "cell_type": "code",
   "execution_count": 14,
   "metadata": {},
   "outputs": [
    {
     "name": "stdout",
     "output_type": "stream",
     "text": [
      "Setting kriging parameters to their default values.\n",
      "Compiling theano function...\n",
      "Level of Optimization:  fast_compile\n",
      "Device:  cpu\n",
      "Precision:  float64\n",
      "Number of faults:  0\n",
      "Compilation Done!\n",
      "Kriging values: \n",
      "                   values\n",
      "range            2165.64\n",
      "$C_o$             111667\n",
      "drift equations   [3, 3]\n"
     ]
    }
   ],
   "source": [
    "# Set the interpolator function\n",
    "# Create the theano model\n",
    "gp.set_interpolator(model_dyke,\n",
    "                         compile_theano=True,\n",
    "                         theano_optimizer='fast_compile',\n",
    "                         verbose=[]);"
   ]
  },
  {
   "cell_type": "code",
   "execution_count": 15,
   "metadata": {},
   "outputs": [],
   "source": [
    "# Compute the model\n",
    "sol_dyke = gp.compute_model(model_dyke, compute_mesh=True)"
   ]
  },
  {
   "cell_type": "code",
   "execution_count": 16,
   "metadata": {},
   "outputs": [
    {
     "name": "stderr",
     "output_type": "stream",
     "text": [
      "C:\\Users\\brigg\\miniconda3\\envs\\env_gempy\\lib\\site-packages\\gempy\\plot\\plot_api.py:261: UserWarning: Matplotlib is currently using module://ipykernel.pylab.backend_inline, which is a non-GUI backend, so cannot show the figure.\n",
      "  p.fig.show()\n"
     ]
    },
    {
     "data": {
      "text/plain": [
       "<gempy.plot.visualization_2d.Plot2D at 0x227108cb2c8>"
      ]
     },
     "execution_count": 16,
     "metadata": {},
     "output_type": "execute_result"
    },
    {
     "data": {
      "image/png": "[encoded data removed]",
      "text/plain": [
       "<Figure size 432x288 with 1 Axes>"
      ]
     },
     "metadata": {
      "needs_background": "light"
     },
     "output_type": "display_data"
    }
   ],
   "source": [
    "gp.plot_2d(model_dyke, direction='y', show_block=True, show_boundaries=False, \n",
    "           show_data=False, show_results=True)"
   ]
  },
  {
   "cell_type": "markdown",
   "metadata": {},
   "source": [
    "## Combine both models\n",
    "Using a hierarchical modeling approach, we can combine both models and generate a final 3D model with a fault core or dyke."
   ]
  },
  {
   "cell_type": "code",
   "execution_count": 18,
   "metadata": {},
   "outputs": [],
   "source": [
    "# We want to know where the model result voxels have the ID 2, which reflects the red layer in the plot above.\n",
    "inds = np.where(sol_dyke.lith_block==2.)\n",
    "\n",
    "# then we assign to these indices a new value, e.g. 5. Important: It has to be different than the present values\n",
    "# to don't mess with the previous base model, we copy the lith_block from it\n",
    "cp_sol_lith_block = np.copy(sol.lith_block)\n",
    "\n",
    "# and assign the value 5. to the indices with value 2. in the dyke model\n",
    "cp_sol_lith_block[inds] = 5."
   ]
  },
  {
   "cell_type": "code",
   "execution_count": 19,
   "metadata": {},
   "outputs": [],
   "source": [
    "# Then we reshape the array to the model grid\n",
    "nx, ny, nz = geo_model.grid.regular_grid.resolution\n",
    "resh_block = np.reshape(cp_sol_lith_block, (nx, ny, nz), order='F')"
   ]
  },
  {
   "cell_type": "code",
   "execution_count": 21,
   "metadata": {},
   "outputs": [
    {
     "data": {
      "text/plain": [
       "<matplotlib.image.AxesImage at 0x22709ab8dc8>"
      ]
     },
     "execution_count": 21,
     "metadata": {},
     "output_type": "execute_result"
    },
    {
     "data": {
      "image/png": "[encoded data removed]",
      "text/plain": [
       "<Figure size 432x288 with 1 Axes>"
      ]
     },
     "metadata": {
      "needs_background": "light"
     },
     "output_type": "display_data"
    }
   ],
   "source": [
    "import matplotlib.pyplot as plt\n",
    "plt.imshow(resh_block[:,50,:], origin='lower')"
   ]
  },
  {
   "cell_type": "markdown",
   "metadata": {},
   "source": [
    "## Backup try to directly add this to the current model"
   ]
  },
  {
   "cell_type": "code",
   "execution_count": 37,
   "metadata": {},
   "outputs": [],
   "source": [
    "sol.lith_block[inds] = 5."
   ]
  },
  {
   "cell_type": "code",
   "execution_count": 38,
   "metadata": {},
   "outputs": [
    {
     "name": "stderr",
     "output_type": "stream",
     "text": [
      "C:\\Users\\brigg\\miniconda3\\envs\\env_gempy\\lib\\site-packages\\gempy\\plot\\plot_api.py:261: UserWarning: Matplotlib is currently using module://ipykernel.pylab.backend_inline, which is a non-GUI backend, so cannot show the figure.\n",
      "  p.fig.show()\n"
     ]
    },
    {
     "data": {
      "text/plain": [
       "<gempy.plot.visualization_2d.Plot2D at 0x260d1fec808>"
      ]
     },
     "execution_count": 38,
     "metadata": {},
     "output_type": "execute_result"
    },
    {
     "data": {
      "image/png": "[encoded data removed]",
      "text/plain": [
       "<Figure size 432x288 with 1 Axes>"
      ]
     },
     "metadata": {
      "needs_background": "light"
     },
     "output_type": "display_data"
    }
   ],
   "source": [
    "gp.plot_2d(geo_model, direction='y', show_block=True, show_boundaries=False, \n",
    "           show_data=False, show_results=True)"
   ]
  },
  {
   "cell_type": "code",
   "execution_count": 40,
   "metadata": {},
   "outputs": [
    {
     "data": {
      "text/plain": [
       "<gempy.plot.vista.GemPyToVista at 0x260db10db08>"
      ]
     },
     "execution_count": 40,
     "metadata": {},
     "output_type": "execute_result"
    }
   ],
   "source": [
    "gp.plot_3d(geo_model, plotter_type='background', show_surfaces=False, show_lith=True)"
   ]
  }
 ],
 "metadata": {
  "kernelspec": {
   "display_name": "Python [conda env:env_gempy]",
   "language": "python",
   "name": "conda-env-env_gempy-py"
  },
  "language_info": {
   "codemirror_mode": {
    "name": "ipython",
    "version": 3
   },
   "file_extension": ".py",
   "mimetype": "text/x-python",
   "name": "python",
   "nbconvert_exporter": "python",
   "pygments_lexer": "ipython3",
   "version": "3.7.8"
  },
  "latex_envs": {
   "LaTeX_envs_menu_present": true,
   "autoclose": false,
   "autocomplete": true,
   "bibliofile": "biblio.bib",
   "cite_by": "apalike",
   "current_citInitial": 1,
   "eqLabelWithNumbers": true,
   "eqNumInitial": 1,
   "hotkeys": {
    "equation": "Ctrl-E",
    "itemize": "Ctrl-I"
   },
   "labels_anchors": false,
   "latex_user_defs": false,
   "report_style_numbering": false,
   "user_envs_cfg": false
  },
  "varInspector": {
   "cols": {
    "lenName": 16,
    "lenType": 16,
    "lenVar": 40
   },
   "kernels_config": {
    "python": {
     "delete_cmd_postfix": "",
     "delete_cmd_prefix": "del ",
     "library": "var_list.py",
     "varRefreshCmd": "print(var_dic_list())"
    },
    "r": {
     "delete_cmd_postfix": ") ",
     "delete_cmd_prefix": "rm(",
     "library": "var_list.r",
     "varRefreshCmd": "cat(var_dic_list()) "
    }
   },
   "types_to_exclude": [
    "module",
    "function",
    "builtin_function_or_method",
    "instance",
    "_Feature"
   ],
   "window_display": false
  }
 },
 "nbformat": 4,
 "nbformat_minor": 4
}
